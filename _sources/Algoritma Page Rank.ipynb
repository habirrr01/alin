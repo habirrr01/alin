{
 "cells": [
  {
   "cell_type": "markdown",
   "metadata": {},
   "source": [
    "# **ALGORITMA PAGE RANK**"
   ]
  },
  {
   "cell_type": "markdown",
   "metadata": {},
   "source": [
    "# *Apa itu PageRank?*\n",
    "PageRank adalah algoritma yang diciptakan oleh Larry Page dan digunakan oleh Google untuk memberikan bobot numerik pada setiap elemen dokumen hyperlink. Tujuannya adalah mengukur kepentingan dalam kumpulan dokumen seperti World Wide Web. PageRank menghitung probabilitas pengguna berpindah antar halaman, dan konsep ini juga dapat diterapkan pada hubungan antar kalimat dalam dokumen.\n",
    "\n",
    "# *Konsep PageRank*\n",
    "PageRank memperhitungkan inbound link (link masuk) dan outbound link (link keluar) dari setiap halaman web. Sebuah halaman dianggap penting jika banyak halaman lain merujuk kepadanya, terutama jika halaman-halaman yang merujuk memiliki ranking tinggi. Proses penentuan ranking ini bersifat rekursif, di mana ranking halaman web ditentukan oleh ranking halaman web lain yang merujuk kepadanya. \n",
    "\n",
    "Untuk menentukan pentingnya sebuah halaman web, kita menghitung jumlah halaman lain yang merujuk ke halaman tersebut. Namun, ini mengabaikan perbedaan pentingnya setiap halaman. Pendekatan yang lebih baik adalah dengan mendistribusikan kepentingan halaman secara merata ke semua halaman yang ditautkannya. \n",
    "\n",
    "Skor halaman $ j $ dihitung berdasarkan skor halaman-halaman $ i $ yang merujuk padanya, dibagi dengan jumlah tautan keluar dari halaman $i$ :\n",
    "\n",
    "$\n",
    "r_j = \\sum_{i \\text{ yang mengarah ke } j} \\frac{r_i}{d_i}\n",
    "$\n",
    "\n",
    "Pendekatan ini memberikan ukuran yang lebih akurat dengan mempertimbangkan kualitas halaman yang memberikan tautan.\n",
    "\n",
    "PageRank dapat dilihat sebagai rantai Markov, di mana graf web direpresentasikan dengan matriks transisi. Matriks transisi ini menunjukkan probabilitas berpindah dari satu halaman ke halaman lainnya. Distribusi awal adalah merata, artinya setiap halaman web memiliki peluang awal yang sama untuk dipilih.\n",
    "\n"
   ]
  },
  {
   "cell_type": "markdown",
   "metadata": {},
   "source": [
    "# *Langkah-langkah Penggunaan Algoritma Power Method pada PageRank*\n",
    "\n",
    "1. **Buat Matriks Transisi (A):**\n",
    "   - Matriks $ A $ menunjukkan probabilitas berpindah dari satu halaman ke halaman lainnya.\n",
    "\n",
    "2. **Inisialisasi Vektor Probabilitas Awal (v):**\n",
    "   - Mulai dengan vektor $ v_0 $ yang memiliki nilai merata, misalnya $ \\frac{1}{n} $ untuk setiap elemen.\n",
    "\n",
    "3. **Iterasi Power Method:**\n",
    "   - **Perkalian Matriks:**\n",
    "     $\n",
    "     v_{i+1} = A v_i\n",
    "     $\n",
    "   - **Pemeriksaan Konvergensi:**\n",
    "     $\n",
    "     \\| v_{i+1} - v_i \\| < \\text{toleransi}\n",
    "     $\n",
    "   - Ulangi hingga vektor konvergen.\n",
    "\n",
    "4. **Output Hasil PageRank:**\n",
    "   - Vektor $ v $ yang dihasilkan adalah skor PageRank, menunjukkan kepentingan relatif dari setiap halaman."
   ]
  },
  {
   "cell_type": "code",
   "execution_count": 1,
   "metadata": {},
   "outputs": [
    {
     "name": "stdout",
     "output_type": "stream",
     "text": [
      "v1 = [[0.06666667]\n",
      " [0.36666667]\n",
      " [0.13333333]\n",
      " [0.16666667]\n",
      " [0.26666667]]\n",
      "iterasi ke-1 = [0.05555556]\n",
      "\n",
      "v2 = [[0.06666667]\n",
      " [0.36666667]\n",
      " [0.13333333]\n",
      " [0.16666667]\n",
      " [0.26666667]]\n",
      "iterasi ke-2 = [0.02395062]\n",
      "\n",
      "v3 = [[0.08888889]\n",
      " [0.32222222]\n",
      " [0.11111111]\n",
      " [0.08888889]\n",
      " [0.38888889]]\n",
      "iterasi ke-3 = [0.00768176]\n",
      "\n",
      "urutan = [[4]\n",
      " [1]\n",
      " [2]\n",
      " [0]\n",
      " [3]]\n"
     ]
    }
   ],
   "source": [
    "# Contoh implementasi pada code\n",
    "import numpy as np\n",
    "\n",
    "def perkalianMatriks(A,v0):\n",
    "  vbaru = A@v0\n",
    "  return vbaru\n",
    "\n",
    "def hitung(vbaru,vlama):\n",
    "  temp = 0\n",
    "  for i in range(len(vbaru)):\n",
    "    temp += (vbaru[i] - vlama[i])**2\n",
    "  return temp\n",
    "\n",
    "def converge(A,v0,toleransi):\n",
    "  count = 1\n",
    "  vbaru = perkalianMatriks(A,v0)\n",
    "  iterasi = hitung(vbaru,v0)\n",
    "  print(f'v{count} = {vbaru}')\n",
    "  print(f'iterasi ke-{count} = {iterasi}')\n",
    "  print()\n",
    "  while iterasi > toleransi :\n",
    "    vbaru2 = perkalianMatriks(A,vbaru)\n",
    "    iterasi = hitung(vbaru2,vbaru)\n",
    "    print(f'v{count+1} = {vbaru}')\n",
    "    print(f'iterasi ke-{count+1} = {iterasi}')\n",
    "    print()\n",
    "    vbaru = vbaru2\n",
    "    count += 1\n",
    "  return f'urutan = {pageRank(vbaru2)}'\n",
    "\n",
    "def pageRank(vbaru):\n",
    "  return np.argsort(vbaru,axis=0)[::-1]\n",
    "\n",
    "A = np.array([[0,0,0,0,1/3],[0,0,1/2,1,1/3],[1/3,0,0,0,1/3],[1/3,0,1/2,0,0],[1/3,1,0,0,0]])\n",
    "v0 = np.array([[0.2],[0.2],[0.2],[0.2],[0.2]])\n",
    "toleransi = 0.01\n",
    "hasil = converge(A,v0,toleransi)\n",
    "print(hasil)"
   ]
  },
  {
   "cell_type": "markdown",
   "metadata": {},
   "source": [
    "# *Referensi*\n",
    "\n",
    "1). [https://id.wikipedia.org/wiki/PageRank](https://id.wikipedia.org/wiki/PageRank)\n",
    "\n",
    "2). [https://mti.binus.ac.id/2021/12/31/algoritma-pagerank/](https://mti.binus.ac.id/2021/12/31/algoritma-pagerank/)\n",
    "\n",
    "3). [https://towardsdatascience.com/pagerank-algorithm-fully-explained-dc794184b4af](https://towardsdatascience.com/pagerank-algorithm-fully-explained-dc794184b4af)\n",
    "\n"
   ]
  }
 ],
 "metadata": {
  "kernelspec": {
   "display_name": "Python 3",
   "language": "python",
   "name": "python3"
  },
  "language_info": {
   "codemirror_mode": {
    "name": "ipython",
    "version": 3
   },
   "file_extension": ".py",
   "mimetype": "text/x-python",
   "name": "python",
   "nbconvert_exporter": "python",
   "pygments_lexer": "ipython3",
   "version": "3.10.13"
  }
 },
 "nbformat": 4,
 "nbformat_minor": 2
}
