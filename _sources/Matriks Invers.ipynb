{
 "cells": [
  {
   "cell_type": "markdown",
   "metadata": {},
   "source": [
    " # **MATRIKS INVERS**"
   ]
  },
  {
   "cell_type": "markdown",
   "metadata": {},
   "source": [
    "# *Apa itu Matriks Invers?* \n",
    "\n",
    "Invers matriks adalah suatu konsep dalam aljabar linear yang mengacu pada kebalikan dari sebuah matriks. Jika kita memiliki sebuah matriks $ A $, inversnya, dilambangkan sebagai $ A^{-1}$, adalah matriks yang ketika dikalikan dengan matriks aslinya, menghasilkan matriks identitas. Dengan kata lain, jika $ A \\times A^{-1} = I $, di mana $ I $ adalah matriks identitas, maka $ A^{-1} $ adalah invers dari $ A $.\n"
   ]
  },
  {
   "cell_type": "markdown",
   "metadata": {},
   "source": [
    "# *Sifat-sifat Matriks Invers*\n",
    "\n",
    "Sifat-sifat dari invers matriks:\n",
    "\n",
    "1. **Hanya untuk Matriks Persegi**: Invers matriks hanya bisa ada untuk matriks yang punya jumlah baris dan kolom sama.\n",
    "2. **Hanya untuk Matriks Non-singular**: Invers matriks hanya ada jika determinan matriksnya tidak nol. Determinan itu adalah nilai yang dihitung dari unsur-unsur matriks persegi.\n",
    "3. **Hanya Ada Satu Invers**: Setiap matriks punya satu invers saja. Kalau $ B $ dan $ C $ keduanya invers dari $ A $, berarti $ B $ sama dengan $ C $.\n",
    "4. **Invers dari Invers adalah Matriks Itu Sendiri**: Kalau $ B $ adalah invers dari $ A $, maka invers dari $ B $ adalah $ A $. Jadi, $ (A^{-1})^{-1} = A $.\n",
    "5. **Invers dari Hasil Kali Matriks**: Invers dari hasil kali dua matriks adalah hasil kali invers masing-masing matriks dalam urutan terbalik. Misalnya, kalau $ A $ dan $ B $ keduanya tidak nol, maka $ (AB)^{-1} = B^{-1}A^{-1} $.\n",
    "6. **Invers dari Transpos Matriks**: Invers dari transpos suatu matriks adalah transpos dari inversnya. Transpos itu adalah menukar baris dan kolom. Kalau $ A $ tidak nol, maka $ (A^T)^{-1} = (A^{-1})^T $."
   ]
  },
  {
   "cell_type": "markdown",
   "metadata": {},
   "source": [
    "# *Metode Gauss-Jordan untuk Mencari Invers Matriks*\n",
    "\n",
    "Metode Gauss-Jordan adalah teknik yang digunakan untuk menemukan invers dari sebuah matriks. Ini melibatkan transformasi matriks asli menjadi matriks identitas dengan menggunakan serangkaian operasi baris, dan saat operasi ini diterapkan pada matriks identitas yang terhubung, matriks asli akan berubah menjadi inversnya.\n",
    "\n",
    "Langkah-langkah umumnya adalah sebagai berikut:\n",
    "\n",
    "1. **Susun Matriks Gabungan**: Susun matriks gabungan dari matriks yang ingin diinvers ($ A $) dan matriks identitas ($ I $). Matriks identitas ditempatkan di sebelah kanan matriks $ A $.\n",
    "\n",
    "2. **Gunakan Operasi Baris**: Terapkan operasi baris untuk mengubah matriks gabungan menjadi bentuk echelon atau bentuk tereduksi. Ini melibatkan operasi tambah, kurang, kali, atau bagi baris untuk mencapai 0 di bawah elemen diagonal utama.\n",
    "\n",
    "3. **Ubah Menjadi Identitas**: Selanjutnya, terapkan operasi baris lanjutan untuk mengubah matriks echelon menjadi bentuk identitas. Ini dilakukan dengan memastikan setiap baris memiliki 1 di posisi diagonal utama, dan semua elemen di atas dan di bawah diagonal utama adalah 0.\n",
    "\n",
    "4. **Interpretasi Hasil**: Matriks di sebelah kanan matriks gabungan akan menjadi invers dari matriks asli $ A $.\n",
    "\n",
    "5. **Periksa Hasil**: Pastikan untuk memverifikasi bahwa matriks hasil memenuhi kriteria invers, yaitu ketika dikalikan dengan matriks asli, menghasilkan matriks identitas.\n",
    "\n",
    "*Contoh :*\n",
    "\n",
    "Kita akan mencari invers dari matriks:\n",
    "$ A = \\begin{bmatrix} 3 & 1 & 4 \\\\ 1 & 5 & 9 \\\\ 2 & 6 & 5 \\end{bmatrix} $\n",
    "\n",
    "1. **Susun Matriks Gabungan**:\n",
    "   Matriks gabungan dari $ A $ dan matriks identitas ($ I $) adalah:\n",
    "   $ \\begin{bmatrix} 3 & 1 & 4 & | & 1 & 0 & 0 \\\\ 1 & 5 & 9 & | & 0 & 1 & 0 \\\\ 2 & 6 & 5 & | & 0 & 0 & 1 \\end{bmatrix} $\n",
    "\n",
    "2. **Gunakan Operasi Baris**:\n",
    "   - Langkah pertama adalah membuat 0 di bawah elemen pertama di baris pertama. Kita kurangkan baris kedua dengan $ \\frac{1}{3} \\times $ baris pertama dan kurangkan baris ketiga dengan $ \\frac{2}{3} \\times $ baris pertama. Ini memberikan kita matriks:\n",
    "   $ \\begin{bmatrix} 3 & 1 & 4 & | & 1 & 0 & 0 \\\\ 0 & \\frac{14}{3} & \\frac{29}{3} & | & -\\frac{1}{3} & 1 & 0 \\\\ 0 & \\frac{4}{3} & -\\frac{3}{3} & | & -\\frac{2}{3} & 0 & 1 \\end{bmatrix} $\n",
    "   - Kemudian, untuk membuat 0 di bawah elemen kedua di baris kedua, kita kurangkan baris ketiga dengan $ \\frac{4}{14} \\times $ baris kedua. Ini memberikan kita:\n",
    "   $ \\begin{bmatrix} 3 & 1 & 4 & | & 1 & 0 & 0 \\\\ 0 & \\frac{14}{3} & \\frac{29}{3} & | & -\\frac{1}{3} & 1 & 0 \\\\ 0 & 0 & -\\frac{17}{14} & | & -\\frac{5}{14} & -\\frac{4}{14} & 1 \\end{bmatrix} $\n",
    "\n",
    "3. **Ubah Menjadi Identitas**:\n",
    "   - Sekarang kita ubah elemen diagonal menjadi 1. Kita bagi baris pertama dengan $ 3 $, baris kedua dengan $ \\frac{14}{3} $, dan baris ketiga dengan $ -\\frac{17}{14} $. Ini memberikan kita:\n",
    "   $ \\begin{bmatrix} 1 & \\frac{1}{3} & \\frac{4}{3} & | & \\frac{1}{3} & 0 & 0 \\\\ 0 & 1 & \\frac{29}{42} & | & -\\frac{1}{14} & \\frac{3}{14} & 0 \\\\ 0 & 0 & 1 & | & \\frac{5}{17} & \\frac{4}{17} & -\\frac{14}{17} \\end{bmatrix} $\n",
    "\n",
    "4. **Operasi Baris Lanjutan**:\n",
    "   - Kita lanjutkan dengan mengubah elemen di atas diagonal menjadi 0. Kita kurangkan baris pertama dengan $ \\frac{1}{3} \\times $ baris kedua dan kurangkan baris kedua dengan $ \\frac{29}{42} \\times $ baris ketiga. Ini memberikan kita:\n",
    "   $ \\begin{bmatrix} 1 & 0 & 0 & | & \\frac{1}{2} & -\\frac{1}{6} & 0 \\\\ 0 & 1 & 0 & | & \\frac{1}{2} & \\frac{1}{6} & -\\frac{14}{3} \\\\ 0 & 0 & 1 & | & \\frac{5}{17} & \\frac{4}{17} & -\\frac{14}{17} \\end{bmatrix} $\n",
    "\n",
    "5. **Interpretasi Hasil**:\n",
    "   - Sekarang, bagian sebelah kanan matriks gabungan adalah invers dari matriks awal $ A $. Jadi, invers dari matriks $ A $ adalah:\n",
    "   $ A^{-1} = \\begin{bmatrix} \\frac{1}{2} & -\\frac{1}{6} & 0 \\\\ \\frac{1}{2} & \\frac{1}{6} & -\\frac{14}{3} \\\\ \\frac{5}{17} & \\frac{4}{17} & -\\frac{14}{17} \\end{bmatrix} $\n"
   ]
  },
  {
   "cell_type": "markdown",
   "metadata": {},
   "source": [
    "# *Penyelesaian Sistem Persamaan Linear Menggunakan Matrix Invers*\n",
    "Metode invers matriks adalah cara lain untuk menyelesaikan sistem dua persamaan linier. Dalam metode ini, kita menggunakan invers dari matriks koefisien untuk menemukan solusi sistem. Ini berarti jika kita memiliki sebuah matriks $ A $ yang merupakan koefisien dari sistem persamaan, kita mencari invers dari matriks tersebut, dan kemudian mengalikannya dengan matriks hasil ($ B $) untuk mendapatkan matriks yang berisi nilai variabel yang tidak diketahui ($ X $). Jika matriks $ A $ dapat dibalik (determinannya tidak nol), maka kita bisa menggunakan metode ini. Namun, jika determinan matriks $ A $ nol, metode ini tidak berlaku.\n",
    "\n",
    "Sebagai contoh, jika kita memiliki matriks koefisien $ A = \\begin{pmatrix} 2 & -5 \\\\ -8 & -9 \\end{pmatrix} $ dan matriks hasil $ B = \\begin{pmatrix} -2 \\\\ 8 \\end{pmatrix} $, kita dapat mencari invers dari matriks $ A $ (jika ada) dan mengalikannya dengan matriks $ B $ untuk menemukan nilai variabel yang tidak diketahui, dalam contoh ini, $ x $ dan $ y $. Jika kita menemukan inversnya ($ A^{-1} $), kita bisa mengalikan $ A^{-1} $ dengan $ B $ untuk mendapatkan matriks $ X $ yang berisi solusi persamaan tersebut.\n"
   ]
  },
  {
   "cell_type": "markdown",
   "metadata": {},
   "source": [
    "# *Contoh Penyelesaian Sistem Persamaan linear 4 Variabel dengan Matrix Invers*\n",
    "\n",
    "Sistem Persamaan Linier 4 variabel\n",
    "\n",
    "$$5x_1 + 2x_2 + 10x_3 + 16x_4 = 16 \\\\$$  \n",
    "$$3x_1 + x_2 - 2x_4 = 4 \\\\$$\n",
    "$$3x_1 + x_2 - 9x_3 - 19x_4 = -4 \\\\$$\n",
    "$$4x_1 + x_2 - 3x_4 = 5 \\\\$$\n",
    "\n",
    "1. kita cari terlebih dahulu untuk invers dari persamaan tersebut\n"
   ]
  },
  {
   "cell_type": "code",
   "execution_count": 2,
   "metadata": {},
   "outputs": [],
   "source": [
    "def RowSwap(A,k,l):\n",
    "# =============================================================================\n",
    "#     A is a NumPy array.  RowSwap will return duplicate array with rows\n",
    "#     k and l swapped. (menukarkan persamaan)\n",
    "# =============================================================================\n",
    "    m = A.shape[0]  # m is number of rows in A (jumlah baris A)\n",
    "    n = A.shape[1]  # n is number of columns in A (jumlah kolom A)\n",
    "\n",
    "    B = np.copy(A).astype('float64')\n",
    "\n",
    "    for j in range(n):\n",
    "        temp = B[k][j]\n",
    "        B[k][j] = B[l][j]\n",
    "        B[l][j] = temp\n",
    "\n",
    "    return B\n",
    "\n",
    "def RowScale(A,k,scale):\n",
    "# =============================================================================\n",
    "#     A is a NumPy array.  RowScale will return duplicate array with the\n",
    "#     entries of row k multiplied by scale. (mengalikan entry baris A dengan skala)\n",
    "# =============================================================================\n",
    "    m = A.shape[0]  # m is number of rows in A\n",
    "    n = A.shape[1]  # n is number of columns in A\n",
    "\n",
    "    B = np.copy(A).astype('float64')\n",
    "\n",
    "    for j in range(n):\n",
    "        B[k][j] *= scale\n",
    "\n",
    "    return B\n",
    "\n",
    "def RowAdd(A,k,l,scale):\n",
    "# =============================================================================\n",
    "#     A is a numpy array.  RowAdd will return duplicate array with row\n",
    "#     l modified.  The new values will be the old values of row l added to\n",
    "#     the values of row k, multiplied by scale. (menambahkan nilai baris k dikalikan dengan skala)\n",
    "# =============================================================================\n",
    "    m = A.shape[0]  # m is number of rows in A\n",
    "    n = A.shape[1]  # n is number of columns in A\n",
    "\n",
    "    B = np.copy(A).astype('float64')\n",
    "\n",
    "    for j in range(n):\n",
    "        B[l][j] += B[k][j]*scale\n",
    "\n",
    "    return B"
   ]
  },
  {
   "cell_type": "code",
   "execution_count": 4,
   "metadata": {},
   "outputs": [
    {
     "name": "stdout",
     "output_type": "stream",
     "text": [
      "Matrix A  = \n",
      "[[  5   2  10  16   1   0   0   0]\n",
      " [  3   1   0  -2   0   1   0   0]\n",
      " [  3   1  -9 -19   0   0   1   0]\n",
      " [  4   1   0  -3   0   0   0   1]]\n",
      "\n",
      "\n",
      "[[  1.   1.  10.  19.   1.   0.   0.  -1.]\n",
      " [  3.   1.   0.  -2.   0.   1.   0.   0.]\n",
      " [  3.   1.  -9. -19.   0.   0.   1.   0.]\n",
      " [  4.   1.   0.  -3.   0.   0.   0.   1.]]\n"
     ]
    }
   ],
   "source": [
    "# Import library numpy dan memasukkan persamaan dalam bentuk matrix\n",
    "import numpy as np\n",
    "A = np.array([[5,2,10,16,1,0,0,0],[3,1,0,-2,0,1,0,0],[3,1,-9,-19,0,0,1,0],[4,1,0,-3,0,0,0,1]])\n",
    "print(f\"Matrix A  = \\n{A}\")\n",
    "print(\"\\n\")\n",
    "\n",
    "A1= RowAdd(A,3,0,-1)\n",
    "print(A1)\n",
    "\n"
   ]
  },
  {
   "cell_type": "code",
   "execution_count": 6,
   "metadata": {},
   "outputs": [
    {
     "name": "stdout",
     "output_type": "stream",
     "text": [
      "[[  1.   1.  10.  19.   1.   0.   0.  -1.]\n",
      " [  0.  -2. -30. -59.  -3.   1.   0.   3.]\n",
      " [  3.   1.  -9. -19.   0.   0.   1.   0.]\n",
      " [  4.   1.   0.  -3.   0.   0.   0.   1.]]\n"
     ]
    }
   ],
   "source": [
    "A2= RowAdd(A1,0,1,-3)\n",
    "print(A2)"
   ]
  },
  {
   "cell_type": "code",
   "execution_count": 7,
   "metadata": {},
   "outputs": [
    {
     "name": "stdout",
     "output_type": "stream",
     "text": [
      "[[  1.   1.  10.  19.   1.   0.   0.  -1.]\n",
      " [  0.  -2. -30. -59.  -3.   1.   0.   3.]\n",
      " [  0.  -2. -39. -76.  -3.   0.   1.   3.]\n",
      " [  4.   1.   0.  -3.   0.   0.   0.   1.]]\n"
     ]
    }
   ],
   "source": [
    "A3= RowAdd(A2,0,2,-3)\n",
    "print(A3)"
   ]
  },
  {
   "cell_type": "code",
   "execution_count": 9,
   "metadata": {},
   "outputs": [
    {
     "name": "stdout",
     "output_type": "stream",
     "text": [
      "[[  1.   1.  10.  19.   1.   0.   0.  -1.]\n",
      " [  0.  -2. -30. -59.  -3.   1.   0.   3.]\n",
      " [  0.  -2. -39. -76.  -3.   0.   1.   3.]\n",
      " [  0.  -3. -40. -79.  -4.   0.   0.   5.]]\n"
     ]
    }
   ],
   "source": [
    "A4= RowAdd(A3,0,3,-4)\n",
    "print(A4)"
   ]
  },
  {
   "cell_type": "code",
   "execution_count": 10,
   "metadata": {},
   "outputs": [
    {
     "name": "stdout",
     "output_type": "stream",
     "text": [
      "[[  1.   1.  10.  19.   1.   0.   0.  -1.]\n",
      " [  0.   1.  10.  20.   1.   1.   0.  -2.]\n",
      " [  0.  -2. -39. -76.  -3.   0.   1.   3.]\n",
      " [  0.  -3. -40. -79.  -4.   0.   0.   5.]]\n"
     ]
    }
   ],
   "source": [
    "A5= RowAdd(A4,3,1,-1)\n",
    "print(A5)"
   ]
  },
  {
   "cell_type": "code",
   "execution_count": 11,
   "metadata": {},
   "outputs": [
    {
     "name": "stdout",
     "output_type": "stream",
     "text": [
      "[[  1.   0.   0.  -1.   0.  -1.   0.   1.]\n",
      " [  0.   1.  10.  20.   1.   1.   0.  -2.]\n",
      " [  0.  -2. -39. -76.  -3.   0.   1.   3.]\n",
      " [  0.  -3. -40. -79.  -4.   0.   0.   5.]]\n"
     ]
    }
   ],
   "source": [
    "A6= RowAdd(A5,1,0,-1)\n",
    "print(A6)"
   ]
  },
  {
   "cell_type": "code",
   "execution_count": 12,
   "metadata": {},
   "outputs": [
    {
     "name": "stdout",
     "output_type": "stream",
     "text": [
      "[[  1.   0.   0.  -1.   0.  -1.   0.   1.]\n",
      " [  0.   1.  10.  20.   1.   1.   0.  -2.]\n",
      " [  0.   0. -19. -36.  -1.   2.   1.  -1.]\n",
      " [  0.  -3. -40. -79.  -4.   0.   0.   5.]]\n"
     ]
    }
   ],
   "source": [
    "A7= RowAdd(A6,1,2,2)\n",
    "print(A7)"
   ]
  },
  {
   "cell_type": "code",
   "execution_count": 15,
   "metadata": {},
   "outputs": [
    {
     "name": "stdout",
     "output_type": "stream",
     "text": [
      "[[  1.   0.   0.  -1.   0.  -1.   0.   1.]\n",
      " [  0.   1.  10.  20.   1.   1.   0.  -2.]\n",
      " [  0.   0. -19. -36.  -1.   2.   1.  -1.]\n",
      " [  0.   0. -10. -19.  -1.   3.   0.  -1.]]\n"
     ]
    }
   ],
   "source": [
    "A8= RowAdd(A7,1,3,3)\n",
    "print(A8)"
   ]
  },
  {
   "cell_type": "code",
   "execution_count": 16,
   "metadata": {},
   "outputs": [
    {
     "name": "stdout",
     "output_type": "stream",
     "text": [
      "[[  1.   0.   0.  -1.   0.  -1.   0.   1.]\n",
      " [  0.   1.   0.   1.   0.   4.   0.  -3.]\n",
      " [  0.   0. -19. -36.  -1.   2.   1.  -1.]\n",
      " [  0.   0. -10. -19.  -1.   3.   0.  -1.]]\n"
     ]
    }
   ],
   "source": [
    "A9= RowAdd(A8,3,1,1)\n",
    "print(A9)"
   ]
  },
  {
   "cell_type": "code",
   "execution_count": 17,
   "metadata": {},
   "outputs": [
    {
     "name": "stdout",
     "output_type": "stream",
     "text": [
      "[[  1.   0.   0.  -1.   0.  -1.   0.   1.]\n",
      " [  0.   1.   0.   1.   0.   4.   0.  -3.]\n",
      " [  0.   0. -19. -36.  -1.   2.   1.  -1.]\n",
      " [  0.   0. -20. -38.  -2.   6.   0.  -2.]]\n"
     ]
    }
   ],
   "source": [
    "A10= RowScale(A9,3,2)\n",
    "print(A10)"
   ]
  },
  {
   "cell_type": "code",
   "execution_count": 18,
   "metadata": {},
   "outputs": [
    {
     "name": "stdout",
     "output_type": "stream",
     "text": [
      "[[  1.   0.   0.  -1.   0.  -1.   0.   1.]\n",
      " [  0.   1.   0.   1.   0.   4.   0.  -3.]\n",
      " [  0.   0.   1.   2.   1.  -4.   1.   1.]\n",
      " [  0.   0. -20. -38.  -2.   6.   0.  -2.]]\n"
     ]
    }
   ],
   "source": [
    "A11= RowAdd(A10,3,2,-1)\n",
    "print(A11)"
   ]
  },
  {
   "cell_type": "code",
   "execution_count": 19,
   "metadata": {},
   "outputs": [
    {
     "name": "stdout",
     "output_type": "stream",
     "text": [
      "[[  1.   0.   0.  -1.   0.  -1.   0.   1.]\n",
      " [  0.   1.   0.   1.   0.   4.   0.  -3.]\n",
      " [  0.   0.   1.   2.   1.  -4.   1.   1.]\n",
      " [  0.   0.   0.   2.  18. -74.  20.  18.]]\n"
     ]
    }
   ],
   "source": [
    "A12= RowAdd(A11,2,3,20)\n",
    "print(A12)"
   ]
  },
  {
   "cell_type": "code",
   "execution_count": 22,
   "metadata": {},
   "outputs": [
    {
     "name": "stdout",
     "output_type": "stream",
     "text": [
      "[[  1.   0.   0.  -1.   0.  -1.   0.   1.]\n",
      " [  0.   1.   0.   1.   0.   4.   0.  -3.]\n",
      " [  0.   0.   1.   2.   1.  -4.   1.   1.]\n",
      " [  0.   0.   0.   1.   9. -37.  10.   9.]]\n"
     ]
    }
   ],
   "source": [
    "A13= RowScale(A12,3,1/2)\n",
    "print(A13)"
   ]
  },
  {
   "cell_type": "code",
   "execution_count": 23,
   "metadata": {},
   "outputs": [
    {
     "name": "stdout",
     "output_type": "stream",
     "text": [
      "[[  1.   0.   0.   0.   9. -38.  10.  10.]\n",
      " [  0.   1.   0.   1.   0.   4.   0.  -3.]\n",
      " [  0.   0.   1.   2.   1.  -4.   1.   1.]\n",
      " [  0.   0.   0.   1.   9. -37.  10.   9.]]\n"
     ]
    }
   ],
   "source": [
    "A14= RowAdd(A13,3,0,1)\n",
    "print(A14)"
   ]
  },
  {
   "cell_type": "code",
   "execution_count": 24,
   "metadata": {},
   "outputs": [
    {
     "name": "stdout",
     "output_type": "stream",
     "text": [
      "[[  1.   0.   0.   0.   9. -38.  10.  10.]\n",
      " [  0.   1.   0.   0.  -9.  41. -10. -12.]\n",
      " [  0.   0.   1.   2.   1.  -4.   1.   1.]\n",
      " [  0.   0.   0.   1.   9. -37.  10.   9.]]\n"
     ]
    }
   ],
   "source": [
    "A15= RowAdd(A14,3,1,-1)\n",
    "print(A15)"
   ]
  },
  {
   "cell_type": "code",
   "execution_count": 25,
   "metadata": {},
   "outputs": [
    {
     "name": "stdout",
     "output_type": "stream",
     "text": [
      "[[  1.   0.   0.   0.   9. -38.  10.  10.]\n",
      " [  0.   1.   0.   0.  -9.  41. -10. -12.]\n",
      " [  0.   0.   1.   0. -17.  70. -19. -17.]\n",
      " [  0.   0.   0.   1.   9. -37.  10.   9.]]\n"
     ]
    }
   ],
   "source": [
    "A16= RowAdd(A15,3,2,-2)\n",
    "print(A16)"
   ]
  },
  {
   "cell_type": "markdown",
   "metadata": {},
   "source": [
    "2.Setelah kita sudah menemukan inversnya ($ A^{-1} $), kita bisa mengalikan $ A^{-1} $ dengan $ B $ untuk mendapatkan matriks $ X $ yang berisi solusi persamaan tersebut.\n",
    "\n",
    "$X = A^{-1}B = \\begin{bmatrix} 9 & -38 & 10 & 10 \\\\ -9 & 41 & -10 & -12 \\\\ -17 & 70 & -19 & -17 \\\\ 9 & -37 & 10 & 9 \\end{bmatrix}$ x $\\begin{bmatrix} 16 \\\\ 4 \\\\ -4 \\\\ 5 \\end{bmatrix}$"
   ]
  },
  {
   "cell_type": "code",
   "execution_count": 29,
   "metadata": {},
   "outputs": [
    {
     "name": "stdout",
     "output_type": "stream",
     "text": [
      "[[ 2]\n",
      " [ 0]\n",
      " [-1]\n",
      " [ 1]]\n"
     ]
    }
   ],
   "source": [
    "A_inverse = np.array([[9, -38, 10, 10], [-9, 41, -10, -12],[-17, 70, -19, -17], [9,-37,10,9]])\n",
    "b = np.array([[16], [4], [-4], [5]])\n",
    "\n",
    "x = A_inverse @ b\n",
    "\n",
    "print(x)"
   ]
  },
  {
   "cell_type": "markdown",
   "metadata": {},
   "source": [
    "# *Referensi*\n",
    "\n",
    "1). [https://akupintar.id/info-pintar/-/blogs/matriks-pengertian-operasi-determinan-invers-dan-contoh-soal](https://akupintar.id/info-pintar/-/blogs/matriks-pengertian-operasi-determinan-invers-dan-contoh-soal)\n",
    "\n",
    "2).[https://byjus.com/maths/inverse-matrix/](https://byjus.com/maths/inverse-matrix/)\n",
    "\n",
    "3). [https://www.brilio.net/ragam/rumus-invers-matriks-pahami-konsep-sifat-dan-contoh-soalnya-2310192.html#:~:text=Beberapa%20sifat%2Dsifat%20invers%20matriks,determinan%20tidak%20sama%20dengan%20nol.](https://www.brilio.net/ragam/rumus-invers-matriks-pahami-konsep-sifat-dan-contoh-soalnya-2310192.html#:~:text=Beberapa%20sifat%2Dsifat%20invers%20matriks,determinan%20tidak%20sama%20dengan%20nol.)\n",
    "\n",
    "4). [https://www.mathsisfun.com/algebra/matrix-inverse-row-operations-gauss-jordan.html](https://www.mathsisfun.com/algebra/matrix-inverse-row-operations-gauss-jordan.html)\n",
    "\n",
    "5). [https://ocw.upj.ac.id/files/Slide-IFA104-IFA104-Slide-11.pdf](https://ocw.upj.ac.id/files/Slide-IFA104-IFA104-Slide-11.pdf)\n",
    "\n",
    "6). [https://youtu.be/4QCjOhi_Qhs?si=Xs3kO6wyUaZmJZ5d](https://youtu.be/4QCjOhi_Qhs?si=Xs3kO6wyUaZmJZ5d)\n"
   ]
  }
 ],
 "metadata": {
  "kernelspec": {
   "display_name": "Python 3",
   "language": "python",
   "name": "python3"
  },
  "language_info": {
   "codemirror_mode": {
    "name": "ipython",
    "version": 3
   },
   "file_extension": ".py",
   "mimetype": "text/x-python",
   "name": "python",
   "nbconvert_exporter": "python",
   "pygments_lexer": "ipython3",
   "version": "3.10.13"
  },
  "widgets": {
   "application/vnd.jupyter.widget-state+json": {
    "state": {},
    "version_major": 2,
    "version_minor": 0
   }
  }
 },
 "nbformat": 4,
 "nbformat_minor": 4
}
