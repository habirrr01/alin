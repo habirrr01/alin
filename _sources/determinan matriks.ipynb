{
 "cells": [
  {
   "cell_type": "markdown",
   "metadata": {},
   "source": [
    " # **DETERMINAN MATRIKS**"
   ]
  },
  {
   "cell_type": "markdown",
   "metadata": {},
   "source": [
    "# 1. Determinan dari matriks identitas adalah 1 \n",
    "Ini adalah sifat yang mendasar. Matriks identitas adalah matriks persegi di mana semua elemen diagonalnya adalah 1 dan elemen lainnya adalah 0. Karena transformasi identitas tidak mengubah volume, determinannya adalah 1."
   ]
  },
  {
   "cell_type": "code",
   "execution_count": 3,
   "metadata": {},
   "outputs": [
    {
     "name": "stdout",
     "output_type": "stream",
     "text": [
      "Matriks A 2x2 :\n",
      "[[1 2]\n",
      " [2 3]]\n",
      "Matriks Identitas A :\n",
      "[[1 0]\n",
      " [0 1]]\n",
      "\n"
     ]
    }
   ],
   "source": [
    "# Kita buat matriks terlebih dahulu dengan numpy\n",
    "import numpy as np\n",
    "\n",
    "A=np.array([[1,2],[2,3]])\n",
    "C=np.array([[1,0],[0,1]])\n",
    "\n",
    "print('Matriks A 2x2 :')\n",
    "print(A)\n",
    "print('Matriks Identitas A :')\n",
    "print(C)\n",
    "print()"
   ]
  },
  {
   "cell_type": "code",
   "execution_count": 4,
   "metadata": {},
   "outputs": [
    {
     "name": "stdout",
     "output_type": "stream",
     "text": [
      "Determinan dari Matriks Identitas adalah 1 :\n",
      "1.0\n"
     ]
    }
   ],
   "source": [
    "#Pembuktian untuk Determinan dari Matriks Identitas adalah 1\n",
    "import numpy as np\n",
    "from numpy import linalg as LA\n",
    "\n",
    "print('Determinan dari Matriks Identitas adalah 1 :')\n",
    "print(np.linalg.det(C))"
   ]
  },
  {
   "cell_type": "markdown",
   "metadata": {},
   "source": [
    "# 2. Determinan Matriks Invers\n",
    "\n",
    "Ketika kita mengalikan determinan suatu matriks dengan determinan inversnya, kita mendapatkan hasil yang selalu sama, yaitu 1. Ini merupakan sifat yang penting dari invers matriks dan determinan."
   ]
  },
  {
   "cell_type": "code",
   "execution_count": 5,
   "metadata": {},
   "outputs": [
    {
     "name": "stdout",
     "output_type": "stream",
     "text": [
      "invers A :\n",
      "[[-3.  2.]\n",
      " [ 2. -1.]]\n",
      "determinan : \n",
      "1\n"
     ]
    }
   ],
   "source": [
    "# Pembuktian bahwa determinan matriks dikalikan determinan matriks inversnya akan menghasilkan nilai determinan yaitu 1\n",
    "\n",
    "import numpy as np\n",
    "\n",
    "A_invers=np.linalg.inv(A)\n",
    "print('invers A :')\n",
    "print(A_invers)\n",
    "\n",
    "hasil=np.linalg.det(A) * np.linalg.det(A_invers)\n",
    "\n",
    "print('determinan : ')\n",
    "print(round(hasil))\n"
   ]
  },
  {
   "cell_type": "markdown",
   "metadata": {},
   "source": [
    "# 3. Determinan dari hasil perkalian matriks\n",
    "Jika hasil perkalian dua matriks adalah matriks persegi, maka determinan dari hasil perkalian tersebut sama dengan perkalian determinan masing-masing matriks. "
   ]
  },
  {
   "cell_type": "code",
   "execution_count": 6,
   "metadata": {},
   "outputs": [
    {
     "name": "stdout",
     "output_type": "stream",
     "text": [
      "Matriks E = \n",
      "[[3 5 1]\n",
      " [2 6 2]\n",
      " [1 3 1]]\n",
      "Matriks F = \n",
      "[[1 1 2]\n",
      " [1 1 3]\n",
      " [2 1 2]]\n",
      "\n",
      "Matriks G = Matriks E x Matriks F\n",
      "[[10  9 23]\n",
      " [12 10 26]\n",
      " [ 6  5 13]]\n",
      "\n",
      "Determinan Matriks G\n",
      "0.0\n",
      "Determinan Matriks EF\n",
      "0.0\n"
     ]
    }
   ],
   "source": [
    "import numpy as np\n",
    "\n",
    "E=np.array([[3,5,1],[2,6,2],[1,3,1]])\n",
    "F=np.array([[1,1,2],[1,1,3],[2,1,2]])\n",
    "print('Matriks E = ')\n",
    "print(E)\n",
    "print('Matriks F = ')\n",
    "print(F)\n",
    "print()\n",
    "G= E@F\n",
    "detG=np.linalg.det(G)\n",
    "print('Matriks G = Matriks E x Matriks F')\n",
    "print(G)\n",
    "print()\n",
    "print('Determinan Matriks G')\n",
    "print(detG)\n",
    "\n",
    "detEF=np.linalg.det(E)*np.linalg.det(F)\n",
    "print('Determinan Matriks EF')\n",
    "print(detEF)"
   ]
  },
  {
   "cell_type": "markdown",
   "metadata": {},
   "source": [
    "# 4.  Efek pertukaran baris\n",
    "Ketika baris-baris matriks ditukar, determinannya akan berubah tanda. Misalnya, jika dua baris ditukar, determinannya akan menjadi negatif dari nilai sebelumnya. \n",
    "\n"
   ]
  },
  {
   "cell_type": "code",
   "execution_count": 7,
   "metadata": {},
   "outputs": [
    {
     "name": "stdout",
     "output_type": "stream",
     "text": [
      "5\n",
      "-5\n",
      "-5\n",
      "-5\n"
     ]
    }
   ],
   "source": [
    "#Pembuktian apabila matriks a diubah posisi baris atau kolom nya akan merubah tandanya\n",
    "import numpy as np\n",
    "\n",
    "a=np.array([[1,4,2],[1,1,1],[3,2,1]])\n",
    "a1=np.array([[1,1,1],[1,4,2],[3,2,1]])\n",
    "a2=np.array([[4,1,2],[1,1,1],[2,3,1]])\n",
    "a3=np.array([[1,2,4],[1,1,1],[3,1,2]])\n",
    "\n",
    "det_a=np.linalg.det(a)\n",
    "det_a1=np.linalg.det(a1)\n",
    "det_a2=np.linalg.det(a2)\n",
    "det_a3=np.linalg.det(a3)\n",
    "print(round(det_a))\n",
    "print(round(det_a1))\n",
    "print(round(det_a2))\n",
    "print(round(det_a3))"
   ]
  },
  {
   "cell_type": "code",
   "execution_count": 8,
   "metadata": {},
   "outputs": [
    {
     "name": "stdout",
     "output_type": "stream",
     "text": [
      "[[1 4 2]\n",
      " [2 8 4]\n",
      " [3 2 1]]\n",
      "0.0\n",
      "\n",
      "[[1 4 2]\n",
      " [2 8 3]\n",
      " [1 4 1]]\n",
      "0.0\n"
     ]
    }
   ],
   "source": [
    "#Pembuktian jika baris dari matriks merupakan kelipatan dari baris atau kolom yang lain maka akan menghasilkan 0\n",
    "import numpy as np\n",
    "\n",
    "aa=np.array([[1,4,2],[2,8,4],[3,2,1]])\n",
    "bb=np.array([[1,4,2],[2,8,3],[1,4,1]])\n",
    "\n",
    "det_aa=np.linalg.det(aa)\n",
    "det_bb=np.linalg.det(bb)\n",
    "print(aa)\n",
    "print(det_aa)\n",
    "print()\n",
    "print(bb)\n",
    "print(det_bb)\n"
   ]
  },
  {
   "cell_type": "markdown",
   "metadata": {},
   "source": [
    "# 4. Pengaruh skalar pada determinan: \n",
    "Jika matriks dikalikan dengan skalar \n",
    "𝑘\n",
    "k, determinan dari matriks tersebut akan menjadi \n",
    "𝑘\n",
    "k kali determinan aslinya. "
   ]
  },
  {
   "cell_type": "code",
   "execution_count": 20,
   "metadata": {},
   "outputs": [
    {
     "name": "stdout",
     "output_type": "stream",
     "text": [
      "Matriks Awal : \n",
      "determinannya :\n",
      "5.000000000000001\n",
      "[2 8 4]\n",
      "\n",
      "mengalikan matriks baris 1 dengan skalar : \n",
      "[[2 8 4]\n",
      " [1 1 1]\n",
      " [3 2 1]]\n",
      "determinannya :\n",
      "10.000000000000002\n"
     ]
    }
   ],
   "source": [
    "import numpy as np\n",
    "\n",
    "a=np.array([[1,4,2],[1,1,1],[3,2,1]])\n",
    "print('Matriks Awal : ')\n",
    "print('determinannya :')\n",
    "print(np.linalg.det(a))\n",
    "k = 2\n",
    "temp = k*a[0]\n",
    "print(temp) \n",
    "print()\n",
    "A=np.array([[2,8,4],[1,1,1],[3,2,1]])\n",
    "print('mengalikan matriks baris 1 dengan skalar : ')\n",
    "print(A)\n",
    "print('determinannya :')\n",
    "det_A=np.linalg.det(A)\n",
    "print(det_A)"
   ]
  },
  {
   "cell_type": "markdown",
   "metadata": {},
   "source": [
    "# 5. Determinan matriks segitiga\n",
    "Determinan dari matriks segitiga (baik segitiga atas maupun bawah) dapat dihitung dengan mengalikan setiap elemen pada diagonal utamanya. Ini disebabkan karena matriks segitiga hanya memiliki elemen di sepanjang diagonal utama, dan elemen lainnya nol. Maka, determinan dihitung hanya dari elemen-elemen diagonal ini."
   ]
  },
  {
   "cell_type": "code",
   "execution_count": 25,
   "metadata": {},
   "outputs": [
    {
     "name": "stdout",
     "output_type": "stream",
     "text": [
      "Matriks X :\n",
      "[[1 5 6]\n",
      " [0 3 4]\n",
      " [0 0 4]]\n",
      "determinannya :\n",
      "12.0\n"
     ]
    }
   ],
   "source": [
    "import numpy as np\n",
    "\n",
    "x=np.array([[1,5,6],[0,3,4],[0,0,4]])\n",
    "\n",
    "print('Matriks X :')\n",
    "print(x)\n",
    "print('determinannya :')\n",
    "temp=np.linalg.det(x)\n",
    "print(temp)"
   ]
  },
  {
   "cell_type": "markdown",
   "metadata": {},
   "source": [
    "# Mencari determinan matriks 4x4 menggunakan ekspansi kofaktor\n",
    "\n",
    "1. Buat matriks 4 x 4 terlebih dahulu\n",
    "\n",
    "$ A= \\begin{bmatrix} &1 & 2 & 1 & 2 \\\\ & 0 & 2 & 3 & 0 \\\\ &3 & 1 & 0 & 1 \\\\ &2 & 3 & 1 & 0 \\end{bmatrix} $\n",
    "\n",
    "2. Mencari determinan matriks dari salah satu baris matriks A.\n",
    "\n",
    "disini semisal saya menggunakan baris 2.\n",
    "\n",
    "$A_{21}c_{21}+A_{22}c_{22}+A_{23}c_{23}+A_{24}c_{24}$\n",
    "\n",
    "3. Cari terlebih dahulu kofaktor nya\n",
    "$c_{21}=(-1)^{2+1}det(M_{21})$\n",
    "\n",
    "$c_{22}=(-1)^{2+2}det(M_{22})$\n",
    "\n",
    "$c_{23}=(-1)^{2+3}det(M_{23})$\n",
    "\n",
    "$c_{24}=(-1)^{2+4}det(M_{24})$\n",
    "\n",
    "untuk mencari kofaktor kita perlu mencari determinan minornya\n",
    "\n",
    "- Determinan M21\n",
    "\n",
    "$M_{21} = \\begin{bmatrix} & 2 & 1 & 2 \\\\ & 1 & 0 & 1 \\\\ &3 & 1 & 0 \\end{bmatrix}$\n",
    "\n",
    "Menggunakan  baris ke 2:\n",
    "\n",
    "$c_{21}=(-1)^{2+1}.(-2)=(-1).(-2)=2$\n",
    "\n",
    "$c_{22}=(-1)^{2+2}.(-6)=1.(-6)=-6$\n",
    "\n",
    "$c_{23}=(-1)^{2+3}.(-1)=(-1).(-1)=1$\n",
    "\n",
    "$M_{21}=a_{21}c_{21}+a_{22}c_{22}+a_{23}c_{23}$\n",
    "\n",
    "$M_{21}=1.2+0.-6+1.1$\n",
    "\n",
    "$M_{21}=3$\n",
    "\n",
    "- Determinan M22\n",
    "\n",
    "$M_{22} = \\begin{bmatrix} & 1 & 1 & 2 \\\\ & 3 & 0 & 1 \\\\ &2 & 1 & 0 \\end{bmatrix}$\n",
    "\n",
    "Menggunakan  baris ke 2:\n",
    "\n",
    "$c_{21}=(-1)^{2+1}.(-2)=(-1).(-2)=2$\n",
    "\n",
    "$c_{22}=(-1)^{2+2}.(-4)=1.(-4)=-4$\n",
    "\n",
    "$c_{23}=(-1)^{2+3}.(-1)=(-1).(-1)=1$\n",
    "\n",
    "$M_{22}=a_{21}c_{21}+a_{22}c_{22}+a_{23}c_{23}$\n",
    "\n",
    "$M_{22}=3.2+0.-4+1.1$\n",
    "\n",
    "$M_{22}=7$\n",
    "\n",
    "- Determinan M23\n",
    "\n",
    "$M_{23} = \\begin{bmatrix} & 1 & 2 & 2 \\\\ & 3 & 1 & 1 \\\\ &2 & 3 & 0 \\end{bmatrix}$\n",
    "\n",
    "Menggunakan  baris ke 2:\n",
    "\n",
    "$c_{21}=(-1)^{2+1}.(-6)=(-1).(-6)=6$\n",
    "\n",
    "$c_{22}=(-1)^{2+2}.(-4)=1.(-4)=-4$\n",
    "\n",
    "$c_{23}=(-1)^{2+3}.(-1)=(-1).(-1)=1$\n",
    "\n",
    "$M_{23}=a_{21}c_{21}+a_{22}c_{22}+a_{23}c_{23}$\n",
    "\n",
    "$M_{23}=3.6+1.-4+1.1$\n",
    "\n",
    "$M_{23}=15$\n",
    "\n",
    "- Determinan M24\n",
    "\n",
    "$M_{24} = \\begin{bmatrix} & 1 & 2 & 1 \\\\ & 3 & 1 & 0 \\\\ &2 & 3 & 1 \\end{bmatrix}$\n",
    "\n",
    "Menggunakan  baris ke 2:\n",
    "\n",
    "$c_{21}=(-1)^{2+1}.(-1)=(-1).(-1)=1$\n",
    "\n",
    "$c_{22}=(-1)^{2+2}.(-1)=1.(-1)=-1$\n",
    "\n",
    "$c_{23}=(-1)^{2+3}.(-1)=(-1).(-1)=1$\n",
    "\n",
    "$M_{24}=a_{21}c_{21}+a_{22}c_{22}+a_{23}c_{23}$\n",
    "\n",
    "$M_{24}=3.1+1.-1+0.1$\n",
    "\n",
    "$M_{24}=2$\n",
    "\n",
    "Subtitusikan nilai nilai determinan dari matriks minor ke setiap persamaan kofaktor=\n",
    "\n",
    "$c_{21}=(-1)^{2+1}det(M_{21})=-1.3 = -3$\n",
    "\n",
    "$c_{22}=(-1)^{2+2}det(M_{22})=1.7 = 7$\n",
    "\n",
    "$c_{23}=(-1)^{2+3}det(M_{23})=-1.15 = -15$\n",
    "\n",
    "$c_{24}=(-1)^{2+4}det(M_{24})=1.2 = 2$\n",
    "\n",
    "setelah kita mengetahui masing masing nilai kofaktor pada elemen baris ke 2 matriks A.\n",
    "\n",
    "$det(A) =a_{21}c_{21}+a_{22}c_{22}+a_{23}c_{23}+a_{24}c_{24}$\n",
    "\n",
    "$det(A) =0.-3 + 2.7 + 3.-15 + 0.2$\n",
    "\n",
    "$det(A) =-31$\n",
    "\n",
    "Jadi determinan Matriks A adalah -31\n"
   ]
  },
  {
   "cell_type": "code",
   "execution_count": 28,
   "metadata": {},
   "outputs": [
    {
     "name": "stdout",
     "output_type": "stream",
     "text": [
      "[[1 2 1 2]\n",
      " [0 2 3 0]\n",
      " [3 1 0 1]\n",
      " [2 3 1 0]]\n",
      "-31.0\n"
     ]
    }
   ],
   "source": [
    "#Pembuktian Perhitungan manual tadi\n",
    "\n",
    "y=np.array([[1,2,1,2],[0,2,3,0],[3,1,0,1],[2,3,1,0]])\n",
    "\n",
    "det=np.linalg.det(y)\n",
    "print(y)\n",
    "print(det)"
   ]
  }
 ],
 "metadata": {
  "kernelspec": {
   "display_name": "Python 3",
   "language": "python",
   "name": "python3"
  },
  "language_info": {
   "codemirror_mode": {
    "name": "ipython",
    "version": 3
   },
   "file_extension": ".py",
   "mimetype": "text/x-python",
   "name": "python",
   "nbconvert_exporter": "python",
   "pygments_lexer": "ipython3",
   "version": "3.10.13"
  }
 },
 "nbformat": 4,
 "nbformat_minor": 2
}
