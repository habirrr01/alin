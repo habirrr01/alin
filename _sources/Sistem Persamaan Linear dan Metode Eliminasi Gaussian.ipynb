{
 "cells": [
  {
   "cell_type": "markdown",
   "metadata": {},
   "source": [
    " # **SISTEM PERSAMAAN LINEAR DAN METODE ELIMINASI GAUSSIAN**"
   ]
  },
  {
   "cell_type": "markdown",
   "metadata": {},
   "source": [
    "# *Sistem Persamaan Linear* \n",
    "\n",
    "Sistem persamaan linear itu seperti kumpulan persamaan matematika yang terhubung satu sama lain. Bayangkan kamu punya beberapa persamaan yang saling terkait dan kamu perlu menemukan nilai yang membuat semua persamaan itu benar sekaligus.Bisa diartikan bahwa Sistem Persamaan linear merupakan kumpulan dari beberapa persamaan linear yang melibatkan dua variabel ataupun lebih. Misalnya, kamu memiliki beberapa persamaan seperti $3x + 2y - z = 1$, $2x - 2y + 4z = -2$, dan $-x + 1/2y - z = 0$. Dalam sistem ini, kamu mencari nilai-nilai untuk $x, y,$ dan $z$ yang membuat semua persamaan itu jadi benar."
   ]
  },
  {
   "cell_type": "markdown",
   "metadata": {},
   "source": [
    "# *ELIMINASI GAUSSIAN* # \n",
    "\n",
    "Eliminasi Gauss adalah metode penting dalam matematika untuk menyelesaikan sistem persamaan linear dengan mudah. Ini bekerja dengan melakukan serangkaian operasi pada matriks yang mewakili persamaan-persamaan tersebut. Operasi ini seperti langkah-langkah yang mengubah matriks tanpa mengubah solusi dari sistem persamaan. Hasilnya, kita bisa mendapatkan matriks yang lebih sederhana, yang disebut matriks segitiga atas. Dari sini, solusi untuk sistem persamaan tersebut bisa dengan mudah ditemukan.\n",
    "    \n",
    "# *Bentuk Eselon Baris* #\n",
    "\n",
    "Suatu matriks memiliki bentuk eselon baris jika memenuhi 3 kriteria berikut   \n",
    "1. Jika didalam baris terdapat elemen-elemen yang tidak semuanya nol, maka bilangan tak nol pertama di dalam baris tersebut adalah 1.   \n",
    "2. kalau ada baris-baris yang semua elemennya  bernilai 0 semua, maka baris-baris tersebut harus dikelompokkan dan diletakkan dibagian bawah matriks.   \n",
    "3. Jika terdapat dua baris berurutan yang memenuhi kriteria pertama, maka angka 1 (pertama/utama) dari baris yang lebih rendah berada lebih kekanan dari angka 1(pertama/utama) baris yang diatasnya.\n",
    "\n",
    "ADA TIGA OPERASI YANG DAPAT DILAKUKAN\n",
    "1. Tukarkan posisi kedua persamaan.\n",
    "\n",
    "2. Kalikan persamaan dengan bilangan apa pun yang bukan nol.\n",
    "\n",
    "3. Gantikan suatu persamaan dengan jumlah persamaan itu sendiri dan kelipatan persamaan lainnya."
   ]
  },
  {
   "cell_type": "markdown",
   "metadata": {},
   "source": [
    "# *Operasi Eliminasi Gauss*\n",
    "\n",
    "a. Operasi Swap/menukar\n",
    "\n",
    "Operasi swap merupakan operasi yang menukarkan posisi persamaan dalam sebuah array.\n",
    "\n",
    "$RowSwap(a,b,c)$\n",
    "\n",
    "ket : \n",
    "- a merupakan nama variabel yang akan dilakukan operasi swap\n",
    "- b merupakan tempat swap persamaan\n",
    "- c merupakan persamaan yang akan di swap\n",
    "\n",
    "b. Operasi Scale/perkalian\n",
    "\n",
    "Operasi Scale merupakan operasi yang mengalikan salah satu persamaan dengan bilangan selain nol\n",
    "\n",
    "$RowScale(a,b,c)$\n",
    "\n",
    "ket :\n",
    "- a merupakan nama variabel yang akan dilakukan operasi swap\n",
    "- b merupakan baris dari persamaan yang akan dilakukan\n",
    "- c merupakan bilangan yang akan dikalikan pada salah satu persamaan.\n",
    "\n",
    "c. Operasi Add/penjumlahan\n",
    "\n",
    "Operasi Add merupakan operasi yang menjumlahkan salah satu persamaan dengan hasil perkalian suatu angka dengan persamaan lainnya.\n",
    "\n",
    "$RowAdd(a,b,c,d)$\n",
    "\n",
    "- a merupakan nama variabel yang akan dilakukan operasi penjumlahan\n",
    "- b merupakan baris persamaan yang akan dikalikan dengan sebuah d(angka).\n",
    "- c merupakan persamaan yang akan dijumlahkan dengan hasil perkalian d(angka) dengan persamaan baris ke b\n",
    "- setelah melakukan operasi penjumlahan,persamaan baris ke b tidak akan berubah,yang berubah adalah persamaan ke c.\n",
    "\n",
    "Setelah mengetahui beberapa operasi yang ada pada operasi eliminasi Gauss,kita dapat membuat fungsi yang nantinya bisa kita gunakan dalam implementasi Eleminasi Gauss.Kita dapat mendeklarasikan RowSwap,RowAdd,dan RowScale pada fungsi tersebut.\n"
   ]
  },
  {
   "cell_type": "code",
   "execution_count": 9,
   "metadata": {},
   "outputs": [],
   "source": [
    "def RowSwap(A,k,l):\n",
    "# =============================================================================\n",
    "#     A is a NumPy array.  RowSwap will return duplicate array with rows\n",
    "#     k and l swapped.\n",
    "# =============================================================================\n",
    "    m = A.shape[0]  # m is number of rows in A\n",
    "    n = A.shape[1]  # n is number of columns in A\n",
    "\n",
    "    B = np.copy(A).astype('float64')\n",
    "\n",
    "    for j in range(n):\n",
    "        temp = B[k][j]\n",
    "        B[k][j] = B[l][j]\n",
    "        B[l][j] = temp\n",
    "\n",
    "    return B\n",
    "\n",
    "def RowScale(A,k,scale):\n",
    "# =============================================================================\n",
    "#     A is a NumPy array.  RowScale will return duplicate array with the\n",
    "#     entries of row k multiplied by scale.\n",
    "# =============================================================================\n",
    "    m = A.shape[0]  # m is number of rows in A\n",
    "    n = A.shape[1]  # n is number of columns in A\n",
    "\n",
    "    B = np.copy(A).astype('float64')\n",
    "\n",
    "    for j in range(n):\n",
    "        B[k][j] *= scale\n",
    "\n",
    "    return B\n",
    "\n",
    "def RowAdd(A,k,l,scale):\n",
    "# =============================================================================\n",
    "#     A is a numpy array.  RowAdd will return duplicate array with row\n",
    "#     l modifed.  The new values will be the old values of row l added to\n",
    "#     the values of row k, multiplied by scale.\n",
    "# =============================================================================\n",
    "    m = A.shape[0]  # m is number of rows in A\n",
    "    n = A.shape[1]  # n is number of columns in A\n",
    "\n",
    "    B = np.copy(A).astype('float64')\n",
    "\n",
    "    for j in range(n):\n",
    "        B[l][j] += B[k][j]*scale\n",
    "\n",
    "    return B"
   ]
  },
  {
   "cell_type": "markdown",
   "metadata": {},
   "source": [
    "# *CONTOH*   \n",
    "Selesaikan persamaan berikut ini dengan metode Eliminasi Gaussian\n",
    "\n",
    "$$8x_1+9x_2+x_3=19\\\\$$\n",
    "$$x_1+2x_2+3x_3=9\\\\$$\n",
    "$$2x_1+x_2+x_3=5\\\\$$\n",
    "\n",
    "1. buat array NumPy dengan nilai-nilai ini. Kita akan memberi nama pada array A, sehingga kita bisa memanggilnya lagi nanti."
   ]
  },
  {
   "cell_type": "code",
   "execution_count": 4,
   "metadata": {},
   "outputs": [
    {
     "name": "stdout",
     "output_type": "stream",
     "text": [
      "[[ 8  9  1 19]\n",
      " [ 1  2  3  9]\n",
      " [ 2  1  1  5]]\n"
     ]
    }
   ],
   "source": [
    "import numpy as np\n",
    "A=np.array([[8,9,1,19],[1,2,3,9],[2,1,1,5]])\n",
    "print(A)"
   ]
  },
  {
   "cell_type": "markdown",
   "metadata": {},
   "source": [
    "2. Pindahkan baris 0 ke baris 1"
   ]
  },
  {
   "cell_type": "code",
   "execution_count": 10,
   "metadata": {},
   "outputs": [
    {
     "name": "stdout",
     "output_type": "stream",
     "text": [
      "[[ 1.  2.  3.  9.]\n",
      " [ 8.  9.  1. 19.]\n",
      " [ 2.  1.  1.  5.]]\n"
     ]
    }
   ],
   "source": [
    "A1 = RowSwap(A, 0, 1)\n",
    "print(A1)"
   ]
  },
  {
   "cell_type": "markdown",
   "metadata": {},
   "source": [
    "3. tambahkan -8 kali baris 0 ke baris 1"
   ]
  },
  {
   "cell_type": "code",
   "execution_count": 11,
   "metadata": {},
   "outputs": [
    {
     "name": "stdout",
     "output_type": "stream",
     "text": [
      "[[  1.   2.   3.   9.]\n",
      " [  0.  -7. -23. -53.]\n",
      " [  2.   1.   1.   5.]]\n"
     ]
    }
   ],
   "source": [
    "A2 = RowAdd(A1, 0, 1, -8)\n",
    "print(A2)"
   ]
  },
  {
   "cell_type": "markdown",
   "metadata": {},
   "source": [
    "4. tambahkan -2 kali baris 0 ke baris 2"
   ]
  },
  {
   "cell_type": "code",
   "execution_count": 12,
   "metadata": {},
   "outputs": [
    {
     "name": "stdout",
     "output_type": "stream",
     "text": [
      "[[  1.   2.   3.   9.]\n",
      " [  0.  -7. -23. -53.]\n",
      " [  0.  -3.  -5. -13.]]\n"
     ]
    }
   ],
   "source": [
    "A3 = RowAdd(A2, 0, 2, -2)\n",
    "print(A3)"
   ]
  },
  {
   "cell_type": "markdown",
   "metadata": {},
   "source": [
    "5. kalikan baris 1 dengan -1/7"
   ]
  },
  {
   "cell_type": "code",
   "execution_count": 13,
   "metadata": {},
   "outputs": [
    {
     "name": "stdout",
     "output_type": "stream",
     "text": [
      "[[  1.           2.           3.           9.        ]\n",
      " [ -0.           1.           3.28571429   7.57142857]\n",
      " [  0.          -3.          -5.         -13.        ]]\n"
     ]
    }
   ],
   "source": [
    "A4 = RowScale(A3, 1, -1/7)\n",
    "print(A4)"
   ]
  },
  {
   "cell_type": "markdown",
   "metadata": {},
   "source": [
    "6. tambahkan 3 kali baris 1 ke baris 2"
   ]
  },
  {
   "cell_type": "code",
   "execution_count": 14,
   "metadata": {},
   "outputs": [
    {
     "name": "stdout",
     "output_type": "stream",
     "text": [
      "[[ 1.          2.          3.          9.        ]\n",
      " [-0.          1.          3.28571429  7.57142857]\n",
      " [ 0.          0.          4.85714286  9.71428571]]\n"
     ]
    }
   ],
   "source": [
    "A5 = RowAdd(A4, 1, 2, 3)\n",
    "print(A5)"
   ]
  },
  {
   "cell_type": "markdown",
   "metadata": {},
   "source": [
    "7. kalikan baris 2 dengan 1/4"
   ]
  },
  {
   "cell_type": "code",
   "execution_count": 15,
   "metadata": {},
   "outputs": [
    {
     "name": "stdout",
     "output_type": "stream",
     "text": [
      "[[ 1.          2.          3.          9.        ]\n",
      " [-0.          1.          3.28571429  7.57142857]\n",
      " [ 0.          0.          1.21428571  2.42857143]]\n"
     ]
    }
   ],
   "source": [
    "A6 = RowScale(A5, 2, 1/4)\n",
    "print(A6)"
   ]
  },
  {
   "cell_type": "markdown",
   "metadata": {},
   "source": [
    "8. Dari matriks terakhir tersebut sudah memenuhi ketiga kriteria bentuk eselon baris. Selanjutnya tinggal mengubahnya kembali menjadi sistem persamaan linear\n",
    "\n",
    "$$x_1+2x_2+3x_3=9\\\\$$\n",
    "$$x_2+3.28571429x_3=7.57142857\\\\$$\n",
    "$$x_3=2\\\\$$\n"
   ]
  },
  {
   "cell_type": "markdown",
   "metadata": {},
   "source": [
    "9. cari nilai $x_1$ dan $x_2$ dalam sistem persamaan linear tersebut"
   ]
  },
  {
   "cell_type": "code",
   "execution_count": 16,
   "metadata": {},
   "outputs": [
    {
     "name": "stdout",
     "output_type": "stream",
     "text": [
      "x3: 2\n",
      "x2: 1\n",
      "x1: 1\n"
     ]
    }
   ],
   "source": [
    "x3 = 2\n",
    "print('x3:', x3)\n",
    "x2 = 7.57142857-(3.28571429*x3)\n",
    "print(\"x2:\", round(x2))\n",
    "x1 = 9 - 2*x2 - 3*x3\n",
    "print('x1:', round(x1))"
   ]
  },
  {
   "cell_type": "code",
   "execution_count": 1,
   "metadata": {},
   "outputs": [
    {
     "data": {
      "image/png": "[encoded data removed]",
      "text/plain": [
       "<Figure size 640x480 with 1 Axes>"
      ]
     },
     "metadata": {},
     "output_type": "display_data"
    }
   ],
   "source": [
    "import numpy as np\n",
    "import matplotlib.pyplot as plt\n",
    "from mpl_toolkits.mplot3d import Axes3D\n",
    "\n",
    "# Koefisien untuk masing-masing persamaan bidang\n",
    "a1, b1, c1, r1 = 1, 2, 3, 9\n",
    "a2, b2, c2, r2 = 0, 1, 3, 7\n",
    "a3, b3, c3, r3 = 0, 0, 1, 2\n",
    "\n",
    "# Buat data x, y\n",
    "x = np.linspace(-10, 10, 100)\n",
    "y = np.linspace(-10, 10, 100)\n",
    "\n",
    "# Buat grid x, y\n",
    "X, Y = np.meshgrid(x, y)\n",
    "\n",
    "# Hitung nilai z sesuai dengan persamaan bidang\n",
    "Z1 = (r1 - a1*X - b1*Y) / c1\n",
    "Z2 = (r2 - a2*X - b2*Y) / c2\n",
    "Z3 = (r3 - a3*X - b3*Y) / c3\n",
    "\n",
    "# Plot persamaan bidang dalam tiga dimensi\n",
    "fig = plt.figure()\n",
    "ax = fig.add_subplot(111, projection='3d')\n",
    "\n",
    "# Plot bidang\n",
    "ax.plot_surface(X, Y, Z1, alpha=0.5, rstride=100, cstride=100, color='r')\n",
    "ax.plot_surface(X, Y, Z2, alpha=0.5, rstride=100, cstride=100, color='g')\n",
    "ax.plot_surface(X, Y, Z3, alpha=0.5, rstride=100, cstride=100, color='b')\n",
    "\n",
    "# Titik perpotongan\n",
    "A = np.array([[a1, b1, c1], [a2, b2, c2], [a3, b3, c3]])\n",
    "B = np.array([r1, r2, r3])\n",
    "intersect = np.linalg.solve(A, B)\n",
    "ax.scatter(intersect[0], intersect[1], intersect[2], color='black', s=100, label='Titik Perpotongan')\n",
    "\n",
    "# Label sumbu\n",
    "ax.set_xlabel('X')\n",
    "ax.set_ylabel('Y')\n",
    "ax.set_zlabel('Z')\n",
    "\n",
    "# Tampilkan legenda\n",
    "ax.legend()\n",
    "\n",
    "# Tampilkan plot\n",
    "plt.show()"
   ]
  },
  {
   "cell_type": "markdown",
   "metadata": {},
   "source": [
    "# *Referensi*\n",
    "\n",
    "1). [https://id.wikipedia.org/wiki/Sistem_persamaan_linear](https://id.wikipedia.org/wiki/Sistem_persamaan_linear)\n",
    "\n",
    "2).[https://id.wikipedia.org/wiki/Eliminasi_Gauss#:~:text=Dalam%20matematika%2C%20eliminasi%20Gauss%20adalah,koefisien%20dari%20sistem%20persamaan%20tersebut.](https://id.wikipedia.org/wiki/Eliminasi_Gauss#:~:text=Dalam%20matematika%2C%20eliminasi%20Gauss%20adalah,koefisien%20dari%20sistem%20persamaan%20tersebut.)\n",
    "\n",
    "3). [https://www.quora.com/What-is-the-difference-between-a-system-of-linear-equations-and-a-linear-equation](https://www.quora.com/What-is-the-difference-between-a-system-of-linear-equations-and-a-linear-equation)"
   ]
  }
 ],
 "metadata": {
  "kernelspec": {
   "display_name": "Python 3",
   "language": "python",
   "name": "python3"
  },
  "language_info": {
   "codemirror_mode": {
    "name": "ipython",
    "version": 3
   },
   "file_extension": ".py",
   "mimetype": "text/x-python",
   "name": "python",
   "nbconvert_exporter": "python",
   "pygments_lexer": "ipython3",
   "version": "3.10.13"
  },
  "widgets": {
   "application/vnd.jupyter.widget-state+json": {
    "state": {},
    "version_major": 2,
    "version_minor": 0
   }
  }
 },
 "nbformat": 4,
 "nbformat_minor": 4
}
