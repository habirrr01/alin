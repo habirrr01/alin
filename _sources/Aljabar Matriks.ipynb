{
 "cells": [
  {
   "cell_type": "markdown",
   "metadata": {},
   "source": [
    " # **ALJABAR MATRIKS**"
   ]
  },
  {
   "cell_type": "markdown",
   "metadata": {},
   "source": [
    "# *Apa itu Matriks ?*\n",
    "\n",
    "Saat kita bekerja dengan matriks dalam pemrograman, penting untuk memahami dimensi atau ukurannya. Cara kita menyatakan ukuran matriks, dengan menyebutkan jumlah baris terlebih dahulu dan kemudian diikuti oleh jumlah kolom, membantu kita memahami bagaimana matriks tersebut terorganisir. Misalnya, jika kita menyebutkan bahwa matriks A memiliki ukuran 2x2, itu artinya matriks tersebut memiliki 2 baris dan 2 kolom. Demikian juga, jika kita memiliki matriks B yang berukuran 2x3, maka matriks tersebut memiliki 2 baris dan 3 kolom. Dengan pemahaman tentang dimensi matriks ini, kita dapat dengan mudah mengelola dan memanipulasi data matriks dalam konteks pemrograman.\n",
    "\n",
    "A= $\\begin{bmatrix}1 & 2 \\\\3 & 4\\end{bmatrix}$ B= $\\begin{bmatrix}1 & 2 & 6 \\\\3 & 4 & 5\\end{bmatrix}$\n",
    "\n",
    "\n"
   ]
  },
  {
   "cell_type": "markdown",
   "metadata": {},
   "source": [
    "Umumnya, kita menggunakan variabel dalam subskrip untuk menunjukkan elemen-elemen matriks. Sebagai contoh, $a_{ij}$ menunjukkan elemen di baris ke-$i$ dan kolom ke-$j$ dari matriks A. Dengan notasi ini, kita bisa merujuk dengan mudah ke elemen-elemen tertentu dalam matriks dan melakukan berbagai operasi matematika atau analisis data. Sebuah matriks dengan hanya satu kolom disebut vektor, Tiap elemen dalam vektor diwakili dengan huruf kecil, dengan subskrip yang menunjukkan posisi entri dalam matriks. Sebagai contoh, $B_{12}$ merujuk pada elemen di baris pertama dan kolom kedua dari matriks $B$.\n",
    "\n",
    "$B_{12}$= $\\begin{bmatrix} 2 \\end{bmatrix}$\n",
    "\n"
   ]
  },
  {
   "cell_type": "markdown",
   "metadata": {},
   "source": [
    "# *Implementasi Matriks menggunakan Numpy*\n",
    "\n",
    "Implementasi matriks menggunakan NumPy adalah salah satu teknik yang sangat berguna dalam pemrograman Python. NumPy adalah pustaka yang kuat untuk komputasi numerik, dan menyediakan alat yang sangat baik untuk bekerja dengan matriks dan vektor.\n",
    "\n",
    "Dengan menggunakan NumPy, kita dapat dengan mudah membuat, memanipulasi, dan menghitung matriks dan vektor dalam Python. Misalnya, kita dapat membuat matriks dengan memanggil fungsi seperti `numpy.array()`, dan kemudian mengakses properti `.shape` untuk mengetahui jumlah baris dan kolom dalam matriks tersebut. Misalnya, jika kita memiliki matriks M, kita dapat mengetahui dimensinya dengan menggunakan `M.shape`.Selain itu kita juga dapat melakukan berbagai operasi matematika, seperti penjumlahan, pengurangan, perkalian, dan pembagian matriks."
   ]
  },
  {
   "cell_type": "code",
   "execution_count": 3,
   "metadata": {},
   "outputs": [
    {
     "name": "stdout",
     "output_type": "stream",
     "text": [
      "Matriks A:\n",
      "[[1 3]\n",
      " [2 1]]\n",
      "Matriks B:\n",
      "[[ 3  0  4]\n",
      " [-1 -2  1]]\n",
      "Dimensi matriks A: (2, 2)\n",
      "Dimensi matriks B: (2, 3)\n"
     ]
    }
   ],
   "source": [
    "#Membuat matriks dengan numpy\n",
    "import numpy as np\n",
    "\n",
    "A = np.array([[1, 3], [2, 1]])\n",
    "B = np.array([[3, 0, 4], [-1, -2, 1]])\n",
    "\n",
    "print('Matriks A:')\n",
    "print(A)\n",
    "\n",
    "print('Matriks B:')\n",
    "print(B)\n",
    "\n",
    "print(f'Dimensi matriks A: {A.shape}')\n",
    "print(f'Dimensi matriks B: {B.shape}')\n"
   ]
  },
  {
   "cell_type": "markdown",
   "metadata": {},
   "source": [
    "Dalam penggunaan pustaka NumPy pada bahasa pemrograman Python, kita mampu membuat matriks acak dengan mudah, sesuai dengan ukuran yang diinginkan. Fungsi `np.random.randint()` biasanya digunakan dalam proses menghasilkan matriks yang terdiri dari bilangan bulat acak dalam rentang 0 hingga 9. Dengan menentukan ukuran matriks melalui parameter `size=(baris, kolom)`, kita dapat membuat matriks dengan dimensi yang spesifik. Setelahnya, dengan menggunakan fungsi `print()`, nilai-nilai dari matriks yang telah dibuat ditampilkan."
   ]
  },
  {
   "cell_type": "code",
   "execution_count": 4,
   "metadata": {},
   "outputs": [
    {
     "name": "stdout",
     "output_type": "stream",
     "text": [
      "Matriks A:\n",
      "[[3 7 5]\n",
      " [7 6 0]\n",
      " [8 6 7]]\n",
      "\n",
      "Matriks B:\n",
      "[[7 4 9]\n",
      " [1 1 1]\n",
      " [1 7 3]]\n",
      "\n",
      "Matriks C:\n",
      "[[9 6]\n",
      " [1 2]\n",
      " [2 1]]\n",
      "\n",
      "Matriks D:\n",
      "[[5 7 1]\n",
      " [5 9 7]\n",
      " [0 8 4]]\n"
     ]
    }
   ],
   "source": [
    "#Membuat matriks random menggunakan numpy\n",
    "import numpy as np\n",
    "\n",
    "A = np.random.randint(10, size=(3, 3))\n",
    "B = np.random.randint(10, size=(3, 3))\n",
    "C = np.random.randint(10, size=(3, 2))\n",
    "D = np.random.randint(10, size=(3, 3))\n",
    "\n",
    "print(\"Matriks A:\")\n",
    "print(A)\n",
    "print()\n",
    "\n",
    "print(\"Matriks B:\")\n",
    "print(B)\n",
    "print()\n",
    "\n",
    "print(\"Matriks C:\")\n",
    "print(C)\n",
    "print()\n",
    "\n",
    "print(\"Matriks D:\")\n",
    "print(D)\n"
   ]
  },
  {
   "cell_type": "markdown",
   "metadata": {},
   "source": [
    "# *Operasi - Operasi Matriks*\n",
    "\n",
    "**1. Perkalian Matriks dengan skalar**\n",
    "\n",
    "Dalam matematika, matriks dapat dikalikan dengan sebuah skalar, yang merupakan bilangan tunggal, baik itu bilangan bulat, pecahan, atau bilangan riil. Proses perkalian ini dilakukan dengan mengalikan setiap elemen dari matriks dengan skalar tersebut. Misalnya, jika kita memiliki matriks A dan kita ingin mengalikannya dengan skalar λ, maka setiap elemen $a_{ij}$ dari matriks A akan dikalikan dengan skalar λ. Hasilnya adalah matriks baru yang memiliki ukuran yang sama dengan matriks awal, tetapi setiap elemennya telah dikalikan dengan skalar tersebut.\n",
    "\n",
    "$λ.A:=(λ.a_{ij})_{i=1,...,m;j=1,...,n}$\n",
    "\n",
    "Contoh perhitungan:\n",
    "\n",
    "$5.\\begin{pmatrix}\n",
    "1 & -3 & 2\\\\\n",
    "1 & 2 & 7\n",
    "\\end{pmatrix} = \\begin{pmatrix}\n",
    "5.1 & 5.(-3) & 5.2\\\\\n",
    "5.1 & 5.2 & 5.7\n",
    "\\end{pmatrix} = \\begin{pmatrix}\n",
    "5 & -15 & 10\\\\\n",
    "5 & 10 & 35\n",
    "\\end{pmatrix}$"
   ]
  },
  {
   "cell_type": "code",
   "execution_count": 5,
   "metadata": {},
   "outputs": [
    {
     "name": "stdout",
     "output_type": "stream",
     "text": [
      "Hasil perkalian skalar c dengan matriks A:\n",
      "[[15 35 25]\n",
      " [35 30  0]\n",
      " [40 30 35]]\n",
      "\n",
      "Hasil perkalian skalar c dengan matriks B:\n",
      "[[35 20 45]\n",
      " [ 5  5  5]\n",
      " [ 5 35 15]]\n",
      "\n",
      "Hasil perkalian skalar c dengan matriks C:\n",
      "[[45 30]\n",
      " [ 5 10]\n",
      " [10  5]]\n",
      "\n",
      "Hasil perkalian skalar c dengan matriks D:\n",
      "[[25 35  5]\n",
      " [25 45 35]\n",
      " [ 0 40 20]]\n"
     ]
    }
   ],
   "source": [
    "#contoh perkalian matriks dengan skalar\n",
    "import numpy as np\n",
    "\n",
    "c = 5\n",
    "AA = c * A \n",
    "BB = c * B \n",
    "CC = c * C \n",
    "DD = c * D \n",
    "\n",
    "print(\"Hasil perkalian skalar c dengan matriks A:\")\n",
    "print(AA)\n",
    "print()\n",
    "\n",
    "print(\"Hasil perkalian skalar c dengan matriks B:\")\n",
    "print(BB)\n",
    "print()\n",
    "\n",
    "print(\"Hasil perkalian skalar c dengan matriks C:\")\n",
    "print(CC)\n",
    "print()\n",
    "\n",
    "print(\"Hasil perkalian skalar c dengan matriks D:\")\n",
    "print(DD)\n"
   ]
  },
  {
   "cell_type": "markdown",
   "metadata": {},
   "source": [
    "**2. Penjumlahan 2 buah matriks dengan dimensi yang sama**\n",
    "\n",
    "Penjumlahan dan pengurangan matriks hanya dapat dilakukan ketika kedua matriks memiliki ukuran yang sama atau setara, yang berarti jumlah baris dan jumlah kolomnya harus identik. Proses penjumlahan atau pengurangan dilakukan dengan cara menambahkan atau mengurangkan elemen-elemen matriks yang memiliki posisi yang sama. Misalnya, elemen pada baris ke-i dan kolom ke-j dari matriks pertama akan dijumlahkan atau dikurangkan dengan elemen pada posisi yang sama dari matriks kedua. Hasil dari operasi ini akan menghasilkan matriks baru yang juga memiliki ukuran yang sama seperti matriks asal, dengan setiap elemen pada posisi yang sesuai berisi hasil penjumlahan atau pengurangan dari elemen-elemen yang bersesuaian dalam matriks-matriks tersebut.\n",
    "\n",
    "$a_{ij}\\pm b_{ij}=c_{ij}$\n",
    "\n",
    "atau \n",
    "\n",
    "$\\begin{bmatrix}\n",
    "a_{11}\\pm b_{11} & a_{12}\\pm b_{12} & a_{13}\\pm b_{13} \\\\\n",
    "a_{21}\\pm b_{21} & a_{22}\\pm b_{22} & a_{23}\\pm b_{23}\n",
    "\\end{bmatrix}$ = $\\begin{bmatrix}\n",
    "c_{11} & c_{12} & c_{13}\\\\\n",
    "c_{21} & c_{22} & c_{23}\n",
    "\\end{bmatrix}$\n",
    "\n"
   ]
  },
  {
   "cell_type": "code",
   "execution_count": 8,
   "metadata": {},
   "outputs": [
    {
     "name": "stdout",
     "output_type": "stream",
     "text": [
      "A:\n",
      "[[15 35 25]\n",
      " [35 30  0]\n",
      " [40 30 35]]\n",
      "B:\n",
      "[[35 20 45]\n",
      " [ 5  5  5]\n",
      " [ 5 35 15]]\n",
      "k = A + B:\n",
      "[[50 55 70]\n",
      " [40 35  5]\n",
      " [45 65 50]]\n"
     ]
    }
   ],
   "source": [
    "#contoh penjumlahan 2 buah matriks yang sama.\n",
    "import numpy as np\n",
    "\n",
    "k = AA + BB\n",
    "\n",
    "print(f\"A:\\n{AA}\")\n",
    "print(f\"B:\\n{BB}\")\n",
    "print(f\"k = A + B:\\n{k}\")\n"
   ]
  },
  {
   "cell_type": "markdown",
   "metadata": {},
   "source": [
    "**3. Perkalian matriks**\n",
    "\n",
    "Dalam matematika, terdapat metode perkalian matriks yang disebut perkalian titik (atau perkalian matriks standar), di mana setiap elemen baris dari matriks pertama dikalikan dengan setiap elemen kolom dari matriks kedua, dan hasilnya dijumlahkan untuk mendapatkan elemen baru pada matriks hasil. Dengan cara ini, kita dapat menggabungkan informasi dari setiap baris matriks pertama dengan setiap kolom matriks kedua untuk mendapatkan matriks baru yang mewakili hubungan yang kompleks antara keduanya. Proses ini dapat diulangi untuk setiap baris matriks pertama dan setiap kolom matriks kedua hingga semua elemen matriks hasil terisi.\n",
    "\n",
    "$c_{ij}=\\sum_{k=1}^m a_{ik}.b_{kj}$\n",
    "\n",
    "Contoh perhitungan:\n",
    "\n",
    "$\\begin{pmatrix}\n",
    "1 & 2 & 3\\\\\n",
    "4 & 5 & 6\n",
    "\\end{pmatrix}.\\begin{pmatrix}\n",
    "6 & -1 \\\\\n",
    "3 & 2 \\\\\n",
    "0 & -3\n",
    "\\end{pmatrix} = \\begin{pmatrix}\n",
    "1.6+2.3+3.0 & 1.(-1)+2.2+3.(-3)\\\\\n",
    "4.6+5.3+6.0 & 4.(-1)+5.2+6.(-3) \n",
    "\\end{pmatrix} = \\begin{pmatrix}\n",
    "12 & -6 \\\\\n",
    "39 & -12 \n",
    "\\end{pmatrix}$\n",
    "\n",
    "**- Sifat-Sifat Matriks** \n",
    "\n",
    "Sifat-sifat matriks sebagai berikut :\n",
    "\n",
    "$1. A+B=B+A$\n",
    "\n",
    "$2. (A+B)+C=A+(B+C)$\n",
    "\n",
    "$3. k(AB)=(kA)B$\n",
    "\n",
    "$4. (AB)C=(BC)$\n",
    "\n",
    "$5. A(B+C)=AB+AC$\n",
    "\n",
    "$6. (A+B)C=AC+BC$\n",
    "\n",
    "$7. AB≠BA$\n",
    "\n"
   ]
  },
  {
   "cell_type": "code",
   "execution_count": 10,
   "metadata": {},
   "outputs": [
    {
     "name": "stdout",
     "output_type": "stream",
     "text": [
      "A:\n",
      "[[3 7 5]\n",
      " [7 6 0]\n",
      " [8 6 7]]\n",
      "dimensi: (3, 3)\n",
      "\n",
      "B:\n",
      "[[7 4 9]\n",
      " [1 1 1]\n",
      " [1 7 3]]\n",
      "dimensi: (3, 3)\n",
      "\n",
      "Matriks AB:\n",
      "[[33 54 49]\n",
      " [55 34 69]\n",
      " [69 87 99]]\n"
     ]
    }
   ],
   "source": [
    "#cara 1 menggunakan numpy\n",
    "import numpy as np\n",
    "\n",
    "# Matriks A\n",
    "print(f'A:\\n{A}\\ndimensi: {A.shape}\\n')\n",
    "\n",
    "# Matriks B\n",
    "print(f'B:\\n{B}\\ndimensi: {B.shape}\\n')\n",
    "\n",
    "# Perkalian matriks A dan B\n",
    "AB = np.dot(A, B)\n",
    "print('Matriks AB:')\n",
    "print(AB)\n"
   ]
  },
  {
   "cell_type": "code",
   "execution_count": 11,
   "metadata": {},
   "outputs": [
    {
     "name": "stdout",
     "output_type": "stream",
     "text": [
      "Matriks A:\n",
      "[[3 7 5]\n",
      " [7 6 0]\n",
      " [8 6 7]]\n",
      "Dimensi: (3, 3)\n",
      "\n",
      "Matriks B:\n",
      "[[7 4 9]\n",
      " [1 1 1]\n",
      " [1 7 3]]\n",
      "Dimensi: (3, 3)\n",
      "\n",
      "Hasil perkalian matriks A dan B:\n",
      "[[33 54 49]\n",
      " [55 34 69]\n",
      " [69 87 99]]\n"
     ]
    }
   ],
   "source": [
    "#cara 2 menggunakan @\n",
    "import numpy as np\n",
    "\n",
    "# Matriks A\n",
    "print(f'Matriks A:\\n{A}\\nDimensi: {A.shape}\\n')\n",
    "\n",
    "# Matriks B\n",
    "print(f'Matriks B:\\n{B}\\nDimensi: {B.shape}\\n')\n",
    "\n",
    "# Perkalian matriks A dan B\n",
    "AB = A @ B\n",
    "print('Hasil perkalian matriks A dan B:')\n",
    "print(AB)\n"
   ]
  },
  {
   "cell_type": "code",
   "execution_count": 12,
   "metadata": {},
   "outputs": [
    {
     "name": "stdout",
     "output_type": "stream",
     "text": [
      "Hasil perkalian matriks:\n",
      "[0, -6, 7]\n",
      "[5, -2, 9]\n"
     ]
    }
   ],
   "source": [
    "# Menggunakan iterasi\n",
    "A = [[1, 3],\n",
    "     [2, 1]]\n",
    "B = [[3, 0, 4],\n",
    "     [-1, -2, 1]]\n",
    "C = [[0, 0, 0],\n",
    "     [0, 0, 0]]\n",
    "for i in range(2):\n",
    "    for j in range(3):\n",
    "        for k in range(2):\n",
    "            C[i][j] += A[i][k] * B[k][j]\n",
    "print(\"Hasil perkalian matriks:\")\n",
    "for row in C:\n",
    "    print(row)"
   ]
  },
  {
   "cell_type": "markdown",
   "metadata": {},
   "source": [
    "# *Matriks Transpose*\n",
    "\n",
    "Transpose matriks adalah operasi yang menghasilkan matriks baru dengan menukar posisi baris dan kolom dari matriks asalnya. Dengan kata lain, setiap elemen yang berada di baris i dan kolom j pada matriks asal akan menjadi elemen yang berada di baris j dan kolom i pada matriks transposenya\n",
    "\n",
    "Contoh : \n",
    "\n",
    "$B= \\begin{bmatrix}1 & 2 & 6 \\\\3 & 4 & 5\\end{bmatrix}$\n",
    "\n",
    "$B^T= \\begin{bmatrix}1 & 3\\\\2 & 4\\\\6 & 5 \\end{bmatrix}$"
   ]
  },
  {
   "cell_type": "code",
   "execution_count": 14,
   "metadata": {},
   "outputs": [
    {
     "name": "stdout",
     "output_type": "stream",
     "text": [
      "Matriks A:\n",
      "[[15 35 25]\n",
      " [35 30  0]\n",
      " [40 30 35]]\n",
      "\n",
      "Matriks B:\n",
      "[[35 20 45]\n",
      " [ 5  5  5]\n",
      " [ 5 35 15]]\n",
      "\n",
      "Transpose dari matriks A:\n",
      "[[15 35 40]\n",
      " [35 30 30]\n",
      " [25  0 35]]\n",
      "\n",
      "Transpose dari matriks B:\n",
      "[[35  5  5]\n",
      " [20  5 35]\n",
      " [45  5 15]]\n",
      "\n"
     ]
    }
   ],
   "source": [
    "#contoh matriks transpose\n",
    "import numpy as np\n",
    "\n",
    "# Matriks A\n",
    "print(f'Matriks A:\\n{AA}\\n')\n",
    "\n",
    "# Matriks B\n",
    "print(f'Matriks B:\\n{BB}\\n')\n",
    "\n",
    "# Transpose matriks A dan B\n",
    "A_T = AA.transpose()\n",
    "B_T = BB.transpose()\n",
    "\n",
    "# Matriks transpose A dan B\n",
    "print(f'Transpose dari matriks A:\\n{A_T}\\n')\n",
    "print(f'Transpose dari matriks B:\\n{B_T}\\n')\n"
   ]
  },
  {
   "cell_type": "markdown",
   "metadata": {},
   "source": [
    "# *Matriks Elementer*\n",
    "Matriks elementer adalah matriks yang diperoleh dari matriks identitas melalui satu atau lebih operasi baris elementer. Matriks identitas adalah matriks persegi yang memiliki nilai 1 di sepanjang diagonal utamanya dan nilai 0 di tempat lainnya. Operasi baris elementer adalah operasi dasar yang dapat dilakukan pada baris-baris matriks, seperti menukar dua baris, mengalikan baris dengan skalar non-nol, atau menambahkan satu baris dengan baris lainnya yang telah dikalikan dengan skalar tertentu.\n",
    "Tentu, berikut adalah contoh matriks elementer yang diperoleh dari matriks identitas 2x2 dengan menerapkan beberapa operasi baris elementer:\n",
    "\n",
    "1. Mulai dengan matriks identitas 2x2:\n",
    "$ I = \\begin{bmatrix} \n",
    "1 & 0 \\\\\n",
    "0 & 1 \\\\\n",
    "\\end{bmatrix} $\n",
    "\n",
    "2. Misalkan kita ingin menukar baris pertama dengan baris kedua. Kita dapat melakukan operasi baris elementer untuk mencapai ini:\n",
    "$ \\begin{bmatrix} \n",
    "0 & 1 \\\\\n",
    "1 & 0 \\\\\n",
    "\\end{bmatrix} $\n",
    "\n",
    "3. Kemudian, kita mungkin ingin mengalikan baris kedua dengan 3:\n",
    "$ \\begin{bmatrix} \n",
    "0 & 1 \\\\\n",
    "3 & 0 \\\\\n",
    "\\end{bmatrix} $\n",
    "\n",
    "4. Selanjutnya, kita bisa menambahkan baris kedua dengan baris pertama:\n",
    "$ \\begin{bmatrix} \n",
    "3 & 1 \\\\\n",
    "3 & 0 \\\\\n",
    "\\end{bmatrix} $\n",
    "\n",
    "Matriks di atas adalah contoh dari matriks elementer yang diperoleh dari matriks identitas dengan menerapkan beberapa operasi baris elementer. Dengan cara ini, kita dapat membentuk berbagai matriks elementer yang berbeda dengan menerapkan operasi baris elementer pada matriks identitas asli."
   ]
  },
  {
   "cell_type": "code",
   "execution_count": 2,
   "metadata": {},
   "outputs": [
    {
     "name": "stdout",
     "output_type": "stream",
     "text": [
      "Matriks A:\n",
      "Matrix([[37, 65, 19], [96, 99, 30], [35, 69, 4]])\n",
      "Matriks E:\n",
      "Matrix([[0, 1, 0], [1, 0, 0], [0, 0, 1]])\n",
      "Hasil operasi baris elementer E pada matriks A:\n",
      "Matrix([[96, 99, 30], [37, 65, 19], [35, 69, 4]])\n"
     ]
    }
   ],
   "source": [
    "import sympy as sy\n",
    "\n",
    "# Matriks acak A\n",
    "A = sy.randMatrix(3)\n",
    "print(\"Matriks A:\")\n",
    "print(A)\n",
    "\n",
    "# Matriks baris elementer E\n",
    "E = sy.Matrix([[0, 1, 0], [1, 0, 0], [0, 0, 1]])\n",
    "print(\"Matriks E:\")\n",
    "print(E)\n",
    "\n",
    "# Operasi baris elementer E pada matriks A\n",
    "result = E * A\n",
    "print(\"Hasil operasi baris elementer E pada matriks A:\")\n",
    "print(result)\n"
   ]
  },
  {
   "cell_type": "markdown",
   "metadata": {},
   "source": [
    "# *referensi*  \n",
    "1). [(https://id.wikipedia.org/wiki/Matriks_(matematika))](https://id.wikipedia.org/wiki/Matriks_(matematika))\n",
    "\n",
    "2). [https://www.youtube.com/watch?v=z6xfiHUuWWQ&list=PLZS-MHyEIRo6V6C2PHEx2Lt0hWIB_cL58&index=5](https://www.youtube.com/watch?v=z6xfiHUuWWQ&list=PLZS-MHyEIRo6V6C2PHEx2Lt0hWIB_cL58&index=5)\n",
    "\n",
    "3). [https://numpy.org/doc/stable/reference/generated/numpy.matrix.html](https://numpy.org/doc/stable/reference/generated/numpy.matrix.html)"
   ]
  }
 ],
 "metadata": {
  "kernelspec": {
   "display_name": "Python 3",
   "language": "python",
   "name": "python3"
  },
  "language_info": {
   "codemirror_mode": {
    "name": "ipython",
    "version": 3
   },
   "file_extension": ".py",
   "mimetype": "text/x-python",
   "name": "python",
   "nbconvert_exporter": "python",
   "pygments_lexer": "ipython3",
   "version": "3.10.13"
  },
  "widgets": {
   "application/vnd.jupyter.widget-state+json": {
    "state": {},
    "version_major": 2,
    "version_minor": 0
   }
  }
 },
 "nbformat": 4,
 "nbformat_minor": 4
}
