{
 "cells": [
  {
   "cell_type": "markdown",
   "metadata": {},
   "source": [
    "# **EIGEN VALUE DAN EIGEN VECTOR**"
   ]
  },
  {
   "cell_type": "markdown",
   "metadata": {},
   "source": [
    "# *Konsep Eigen Value dan Eigen Vector*\n",
    "\n",
    "Dalam aljabar linear, vektor eigen adalah vektor yang arahannya tetap sama ketika dikalikan dengan matriks, hanya panjangnya yang berubah. Perubahan panjang ini disebut nilai eigen, yang dilambangkan dengan $\\lambda$. Jika matriks $A$ dikalikan dengan vektor eigen $v$, hasilnya adalah $A$ $\\cdot$ $v$ = $\\lambda$ $\\cdot$ $v$. Ruang eigen adalah kumpulan semua vektor yang tetap berada dalam ruang tersebut ketika dikalikan dengan matriks, termasuk vektor nol dan vektor-vektor eigen yang terkait dengan nilai eigen tertentu. Vektor dan nilai eigen sangat berguna dalam berbagai aplikasi, seperti analisis data dan pemrosesan sinyal, karena membantu memahami transformasi pada ruang multidimensi."
   ]
  },
  {
   "cell_type": "markdown",
   "metadata": {},
   "source": [
    "# *Mencari nilai Eigen Value dan Eigen Vector*\n",
    "\n",
    "# Matriks 2x2\n",
    "\n",
    "Misalkan ada matriks $A$ berikut:\n",
    "\n",
    "$A$ = $\\begin{bmatrix} 2 & 1 \\\\ 1 & 2 \\end{bmatrix}$\n",
    "\n",
    "Vektor-vektor eigen $v$ dari matriks ini adalah vektor-vektor yang arahannya tetap sama setelah dikalikan dengan matriks, hanya panjangnya yang berubah. Nilai eigen $\\lambda$ adalah faktor perubahan panjang tersebut. Untuk mencari nilai eigen, kita menghitung determinan matriks $A$ - $\\lambda$ $I$ dan menyamakannya dengan nol. Hasilnya adalah polinomial karakteristik:\n",
    "\n",
    "$A$ - $\\lambda$ $I$ = $\\begin{vmatrix} 2 - \\lambda & 1 \\\\ 1 & 2 - \\lambda \\end{vmatrix}$ = ($\\lambda$ - 3)($\\lambda$ - 1).\n",
    "\n",
    "\n",
    "Akar-akarnya adalah $\\lambda$ = 1 dan $\\lambda$ = 3, yang merupakan nilai-nilai eigen dari $A$.\n",
    "\n",
    "Untuk $\\lambda$ = 1, substitusi ke dalam $A - I$ menghasilkan:\n",
    "\n",
    "$(A - I)v$ = $\\begin{bmatrix} 1 & 1 \\\\ 1 & 1 \\end{bmatrix} \\begin{bmatrix} v_1 \\\\ v_2 \\end{bmatrix}$ = $\\begin{bmatrix} 0 \\\\ 0 \\end{bmatrix}$\n",
    "\n",
    "yang berarti $v_1 = -v_2$. Salah satu vektor eigennya adalah:\n",
    "\n",
    "$v_{\\lambda=1} = \\begin{bmatrix} 1 \\\\ -1 \\end{bmatrix}.$\n",
    "\n",
    "Untuk $\\lambda$ = 3, substitusi ke dalam $A - 3I$ menghasilkan:\n",
    "\n",
    "$(A - 3I)v$ = $\\begin{bmatrix} -1 & 1 \\\\ 1 & -1 \\end{bmatrix}$ $\\begin{bmatrix} v_1 \\\\ v_2 \\end{bmatrix}$ = $\\begin{bmatrix} 0 \\\\ 0 \\end{bmatrix}$\n",
    "\n",
    "yang berarti $v_1 = v_2$. Salah satu vektor eigennya adalah:\n",
    "\n",
    "$v_{\\lambda=3}$ = $\\begin{bmatrix} 1 \\\\ 1 \\end{bmatrix}.$\n",
    "\n",
    "Jadi, vektor  $\\begin{bmatrix} 1 \\\\ -1 \\end{bmatrix}$ adalah vektor eigen yang berhubungan dengan nilai eigen $\\lambda = 1$, dan vektor $ \\begin{bmatrix} 1 \\\\ 1 \\end{bmatrix} $ adalah vektor eigen yang berhubungan dengan nilai eigen $\\lambda = 3$."
   ]
  },
  {
   "cell_type": "code",
   "execution_count": 3,
   "metadata": {},
   "outputs": [
    {
     "name": "stdout",
     "output_type": "stream",
     "text": [
      "Eigenvalues:\n",
      "[3. 1.]\n",
      "\n",
      "Eigenvectors:\n",
      "[[ 1. -1.]\n",
      " [ 1.  1.]]\n"
     ]
    }
   ],
   "source": [
    "#Pembuktian Menggunakan Numpy\n",
    "import numpy as np\n",
    "from numpy.linalg import eig\n",
    "\n",
    "# Definisikan matriks A\n",
    "A = np.array([[2,1], [1, 2],])\n",
    "\n",
    "# Hitung eigenvalues dan eigenvectors\n",
    "eigenvalues, eigenvectors = eig(A)\n",
    "\n",
    "# Bulatkan hasilnya\n",
    "rounded_eigenvalues = np.round(eigenvalues)\n",
    "rounded_eigenvectors = np.round(eigenvectors)\n",
    "\n",
    "# Cetak hasilnya\n",
    "print(\"Eigenvalues:\")\n",
    "print(rounded_eigenvalues)\n",
    "print(\"\\nEigenvectors:\")\n",
    "print(rounded_eigenvectors)\n"
   ]
  },
  {
   "cell_type": "markdown",
   "metadata": {},
   "source": [
    "# Matriks 3x3\n",
    "\n",
    "matriks $\\mathbf{A}$ = $\\begin{bmatrix} 4 & 1 & 1 \\\\ 1 & 4 & 1 \\\\ 1 & 1 & 4 \\end{bmatrix}$.\n",
    "\n",
    "*Langkah 1: Mencari Eigen Value*\n",
    "\n",
    "Eigen value $\\lambda$ adalah nilai-nilai yang memenuhi persamaan berikut:\n",
    "$\\text{det}\\mathbf{A} - \\lambda \\mathbf{I}$ = 0\n",
    "di mana \\(\\mathbf{I}\\) adalah matriks identitas.\n",
    "\n",
    "1.1. Buat matriks $\\mathbf{A} - \\lambda \\mathbf{I}$:\n",
    "\n",
    "$\\mathbf{A} - \\lambda \\mathbf{I}$ = $\\begin{bmatrix} 4 - \\lambda & 1 & 1 \\\\ 1 & 4 - \\lambda & 1 \\\\ 1 & 1 & 4 - \\lambda \\end{bmatrix}$\n",
    "\n",
    "1.2. Hitung determinan dari matriks tersebut dan buat persamaan karakteristik:\n",
    "\n",
    "$\\text{det}(\\mathbf{A} - \\lambda \\mathbf{I}) = \\begin{vmatrix} 4 - \\lambda & 1 & 1 \\\\ 1 & 4 - \\lambda & 1 \\\\ 1 & 1 & 4 - \\lambda \\end{vmatrix}$\n",
    "\n",
    "Untuk matriks 3x3, determinan dapat dihitung dengan ekspansi kofaktor:\n",
    "\n",
    "= $(4-\\lambda)\\begin{vmatrix} 4-\\lambda & 1 \\\\ 1 & 4-\\lambda \\end{vmatrix}$ - $1\\begin{vmatrix} 1 & 1 \\\\ 1 & 4-\\lambda \\end{vmatrix}$ + $1\\begin{vmatrix} 1 & 4-\\lambda \\\\ 1 & 1 \\end{vmatrix}$\n",
    "\n",
    "Hitung determinan 2x2 di dalamnya:\n",
    "\n",
    "$\\begin{vmatrix} 4-\\lambda & 1 \\\\ 1 & 4-\\lambda \\end{vmatrix}$ = $(4-\\lambda)(4-\\lambda) - 1 \\cdot 1$ = $(4-\\lambda)^2 - 1$\n",
    "\n",
    "$\\begin{vmatrix} 1 & 1 \\\\ 1 & 4-\\lambda \\end{vmatrix}$ = $1 \\cdot (4-\\lambda) - 1 \\cdot 1$ = $4 - \\lambda - 1$ = $3 - \\lambda$\n",
    "\n",
    "$\\begin{vmatrix} 1 & 4-\\lambda \\\\ 1 & 1 \\end{vmatrix}$ = $1 \\cdot 1 - (4-\\lambda) \\cdot 1$ = $1 - (4-\\lambda)$ = $\\lambda - 3$\n",
    "\n",
    "Masukkan kembali ke dalam ekspansi kofaktor:\n",
    "\n",
    "= $(4-\\lambda)((4-\\lambda)^2 - 1) - (3 - \\lambda) + (\\lambda - 3)$\n",
    "\n",
    "Sederhanakan:\n",
    "\n",
    "= $(4-\\lambda)(\\lambda^2 - 8\\lambda + 15) - (3 - \\lambda) + (\\lambda - 3)$\n",
    "\n",
    "Gabungkan semua suku:\n",
    "\n",
    "= $-\\lambda^3 + 12\\lambda^2 - 42\\lambda + 54 = 0$\n",
    "\n",
    "Maka, kita menyelesaikan persamaan kubik $-\\lambda^3 + 12\\lambda^2 - 42\\lambda + 54 = 0$ untuk mendapatkan eigen values. Misalnya, kita temukan $\\lambda = 6$, $\\lambda = 3$, dan $\\lambda = 3$.\n",
    "\n",
    "*Langkah 2: Mencari Eigen Vector*\n",
    "\n",
    "Setelah mendapatkan eigen values, kita mencari eigen vector (\\(\\mathbf{v}\\)) dengan menyelesaikan sistem persamaan:\n",
    "\n",
    "$\\mathbf{A} - \\lambda \\mathbf{I}) \\mathbf{v} = 0$\n",
    "\n",
    "Misal $\\lambda = 6$ adalah salah satu eigen value.\n",
    "\n",
    "2.1. Buat matriks $\\mathbf{A} - 6\\mathbf{I}$:\n",
    "\n",
    "$\\mathbf{A} - 6\\mathbf{I}$ = $\\begin{bmatrix} -2 & 1 & 1 \\\\ 1 & -2 & 1 \\\\ 1 & 1 & -2 \\end{bmatrix}$\n",
    "\n",
    "2.2. Selesaikan sistem persamaan:\n",
    "\n",
    "$\\begin{bmatrix} -2 & 1 & 1 \\\\ 1 & -2 & 1 \\\\ 1 & 1 & -2 \\end{bmatrix}$ $\\begin{bmatrix} x \\\\ y \\\\ z \\end{bmatrix}$ = $\\begin{bmatrix} 0 \\\\ 0 \\\\ 0 \\end{bmatrix}$\n",
    "\n",
    "Dari sini, kita bisa menggunakan eliminasi Gauss atau metode lain untuk menemukan vektor eigen $\\mathbf{v}$.\n",
    "\n",
    "Hasilnya akan memberikan eigen values dan eigen vectors untuk matriks $\\mathbf{A}$."
   ]
  },
  {
   "cell_type": "code",
   "execution_count": 4,
   "metadata": {},
   "outputs": [
    {
     "name": "stdout",
     "output_type": "stream",
     "text": [
      "Eigenvalues:\n",
      "[6. 3. 3.]\n",
      "\n",
      "Eigenvectors:\n",
      "[[-1. -1. -0.]\n",
      " [-1.  0. -1.]\n",
      " [-1.  0.  1.]]\n"
     ]
    }
   ],
   "source": [
    "import numpy as np\n",
    "from numpy.linalg import eig\n",
    "\n",
    "# Definisikan matriks A\n",
    "A = np.array([[4, 1, 1], \n",
    "              [1, 4, 1], \n",
    "              [1, 1, 4]])\n",
    "\n",
    "# Hitung nilai eigen dan vektor eigen\n",
    "eigenvalues, eigenvectors = eig(A)\n",
    "\n",
    "# Bulatkan hasilnya untuk kemudahan interpretasi\n",
    "rounded_eigenvalues = np.round(eigenvalues)\n",
    "rounded_eigenvectors = np.round(eigenvectors)\n",
    "\n",
    "# Cetak hasilnya\n",
    "print(\"Eigenvalues:\")\n",
    "print(rounded_eigenvalues)\n",
    "print(\"\\nEigenvectors:\")\n",
    "print(rounded_eigenvectors)\n"
   ]
  },
  {
   "cell_type": "markdown",
   "metadata": {},
   "source": [
    "# *Contoh implementasi Nilai Eigen Value dan Eigen Vector*"
   ]
  },
  {
   "cell_type": "code",
   "execution_count": 4,
   "metadata": {},
   "outputs": [
    {
     "name": "stdout",
     "output_type": "stream",
     "text": [
      "Components:\n",
      " [[ 1. -0.]\n",
      " [-1.  0.]]\n",
      "Eigenvalues:\n",
      " [1. 0.]\n",
      "Eigenvectors:\n",
      " [[ 1.  1.]\n",
      " [-1.  1.]]\n"
     ]
    }
   ],
   "source": [
    "import numpy as np\n",
    "\n",
    "def pcaEVD(X):\n",
    "    n, p = X.shape\n",
    "    X_centered = X - X.mean(axis=0)\n",
    "    C = (X_centered.T @ X_centered) / (n - 1)\n",
    "    e_vals, e_vecs = np.linalg.eig(C)\n",
    "    \n",
    "    idx = e_vals.argsort()[::-1]\n",
    "    e_vals = e_vals[idx]\n",
    "    e_vecs = e_vecs[:, idx]\n",
    "    \n",
    "    return (X_centered @ e_vecs), e_vals, e_vecs\n",
    "\n",
    "X = np.array([[3, 2],\n",
    "              [2, 3]])\n",
    "\n",
    "components, eigenvalues, eigenvectors = pcaEVD(X)\n",
    "\n",
    "rounded_components = np.round(components)\n",
    "rounded_eigenvalues = np.round(eigenvalues)\n",
    "rounded_eigenvectors = np.round(eigenvectors)\n",
    "\n",
    "print(\"Components:\\n\", rounded_components)\n",
    "print(\"Eigenvalues:\\n\", rounded_eigenvalues)\n",
    "print(\"Eigenvectors:\\n\", rounded_eigenvectors)\n"
   ]
  },
  {
   "cell_type": "markdown",
   "metadata": {},
   "source": [
    "# *Referensi*\n",
    "\n",
    "1). [https://id.wikipedia.org/wiki/Nilai_dan_vektor_eigen](https://id.wikipedia.org/wiki/Nilai_dan_vektor_eigen)\n"
   ]
  }
 ],
 "metadata": {
  "kernelspec": {
   "display_name": "Python 3",
   "language": "python",
   "name": "python3"
  },
  "language_info": {
   "codemirror_mode": {
    "name": "ipython",
    "version": 3
   },
   "file_extension": ".py",
   "mimetype": "text/x-python",
   "name": "python",
   "nbconvert_exporter": "python",
   "pygments_lexer": "ipython3",
   "version": "3.10.13"
  }
 },
 "nbformat": 4,
 "nbformat_minor": 2
}
