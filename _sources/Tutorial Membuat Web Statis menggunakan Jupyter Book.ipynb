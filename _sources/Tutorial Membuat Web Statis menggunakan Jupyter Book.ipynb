{
 "cells": [
  {
   "cell_type": "markdown",
   "metadata": {},
   "source": [
    " # **MEMBUAT WEB STATIS MENGGUNAKAN JUPYTER BOOK DI GITHUB**"
   ]
  },
  {
   "cell_type": "markdown",
   "metadata": {},
   "source": [
    "# *Apa itu Jupyter book ?*\n",
    "\n",
    "referensi : [What is the Jupyter Notebook?](https://jupyter-notebook.readthedocs.io/en/stable/examples/Notebook/What%20is%20the%20Jupyter%20Notebook.html)\n",
    "\n",
    "Jupyter Notebook itu seperti buku catatan digital yang super keren. Bayangkan kamu punya buku catatan di komputer yang bisa kamu gunakan untuk menulis apa pun! Misalnya, kamu bisa menulis dan menjalankan kode untuk melakukan matematika atau analisis data langsung di dalamnya. Selain itu, kamu juga bisa menambahkan hal-hal lain seperti gambar, grafik, atau bahkan video untuk membuatnya lebih menarik.\n",
    "\n",
    "Jupyter Notebook juga memungkinkan kamu untuk menulis catatan atau penjelasan di sekitar kode atau visualisasi yang kamu buat. Jadi, bukan hanya tentang kode, tapi kamu juga bisa menjelaskan apa yang kamu lakukan atau apa yang kamu temukan dalam bahasa yang lebih mudah dimengerti. Ini sangat berguna jika kamu ingin berbagi ide atau hasil penelitian dengan orang lain. Jadi, bisa dibilang, Jupyter Notebook itu seperti buku catatan digital yang punya segalanya: kode, catatan, visualisasi, dan kemampuan untuk berbagi dengan mudah kepada orang lain."
   ]
  },
  {
   "cell_type": "markdown",
   "metadata": {},
   "source": [
    "# *Web Statis Menggunakan Jupyter Book*\n",
    "Jupyter Notebook juga memiliki kemampuan untuk mengubah dokumen-dokumen yang kamu buat menjadi situs web statis. Nah, apa itu situs web statis? Bayangkan situs web seperti buku catatan yang terbuka untuk semua orang. Saat seseorang mengunjungi situs web, mereka melihat informasi yang sama, tanpa bisa mengubahnya. \n",
    "\n",
    "Dengan Jupyter Notebook, kamu bisa mengonversi semua catatan, kode, dan visualisasi yang kamu buat menjadi situs web yang orang lain bisa lihat. Ini berarti, setiap orang bisa mengakses hasil penelitian atau analisis kamu secara online, tanpa perlu memiliki perangkat lunak khusus. Jadi, Jupyter Notebook tidak hanya membuatmu bisa menulis dan menjalankan kode dengan mudah, tapi juga memungkinkanmu untuk berbagi hasil pekerjaanmu dengan mudah melalui situs web statis yang bisa diakses oleh siapa pun."
   ]
  },
  {
   "cell_type": "markdown",
   "metadata": {},
   "source": [
    "# *Tutorial Membuat Web Statis Menggunakan Jupyter Book di Github*\n",
    "\n",
    "Ini merupakan web statis yang kubuat menggunakan Jupyter-book di github.Aku ingin membagikan tutorial tentang cara membuat web statis dengan Jupyter-book.Yuk kunjungi video tutorial yang aku buat agar kalian mengerti cara membuat web statis menggunakan Jupyter-book.\n",
    "\n",
    "link video tutorial : [Tutorial Membuat Web statis menggunakan Jupyter-book](https://youtu.be/4osiouvs7zM?si=aronH6f9zbxrCtuj)\n"
   ]
  }
 ],
 "metadata": {
  "kernelspec": {
   "display_name": "Python 3",
   "language": "python",
   "name": "python3"
  },
  "language_info": {
   "codemirror_mode": {
    "name": "ipython",
    "version": 3
   },
   "file_extension": ".py",
   "mimetype": "text/x-python",
   "name": "python",
   "nbconvert_exporter": "python",
   "pygments_lexer": "ipython3",
   "version": "3.10.13"
  },
  "widgets": {
   "application/vnd.jupyter.widget-state+json": {
    "state": {},
    "version_major": 2,
    "version_minor": 0
   }
  }
 },
 "nbformat": 4,
 "nbformat_minor": 4
}
